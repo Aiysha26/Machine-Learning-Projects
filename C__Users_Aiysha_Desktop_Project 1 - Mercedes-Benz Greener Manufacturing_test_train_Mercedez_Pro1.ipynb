{
 "cells": [
  {
   "cell_type": "code",
   "execution_count": 1,
   "metadata": {},
   "outputs": [],
   "source": [
    "import pandas as pd\n",
    "import numpy as np"
   ]
  },
  {
   "cell_type": "code",
   "execution_count": 5,
   "metadata": {},
   "outputs": [],
   "source": [
    "df_test = pd.read_csv('C:/Users/Aiysha/Desktop/Project 1 - Mercedes-Benz Greener Manufacturing/test.csv')"
   ]
  },
  {
   "cell_type": "code",
   "execution_count": 6,
   "metadata": {},
   "outputs": [],
   "source": [
    "df_train = pd.read_csv('C:/Users/Aiysha/Desktop/Project 1 - Mercedes-Benz Greener Manufacturing/train.csv')"
   ]
  },
  {
   "cell_type": "code",
   "execution_count": 8,
   "metadata": {},
   "outputs": [
    {
     "data": {
      "text/plain": [
       "((4209, 377), (4209, 378))"
      ]
     },
     "execution_count": 8,
     "metadata": {},
     "output_type": "execute_result"
    }
   ],
   "source": [
    "df_test.shape, df_train.shape"
   ]
  },
  {
   "cell_type": "code",
   "execution_count": 10,
   "metadata": {},
   "outputs": [
    {
     "data": {
      "text/html": [
       "<div>\n",
       "<style scoped>\n",
       "    .dataframe tbody tr th:only-of-type {\n",
       "        vertical-align: middle;\n",
       "    }\n",
       "\n",
       "    .dataframe tbody tr th {\n",
       "        vertical-align: top;\n",
       "    }\n",
       "\n",
       "    .dataframe thead th {\n",
       "        text-align: right;\n",
       "    }\n",
       "</style>\n",
       "<table border=\"1\" class=\"dataframe\">\n",
       "  <thead>\n",
       "    <tr style=\"text-align: right;\">\n",
       "      <th></th>\n",
       "      <th>ID</th>\n",
       "      <th>y</th>\n",
       "      <th>X0</th>\n",
       "      <th>X1</th>\n",
       "      <th>X2</th>\n",
       "      <th>X3</th>\n",
       "      <th>X4</th>\n",
       "      <th>X5</th>\n",
       "      <th>X6</th>\n",
       "      <th>X8</th>\n",
       "      <th>...</th>\n",
       "      <th>X375</th>\n",
       "      <th>X376</th>\n",
       "      <th>X377</th>\n",
       "      <th>X378</th>\n",
       "      <th>X379</th>\n",
       "      <th>X380</th>\n",
       "      <th>X382</th>\n",
       "      <th>X383</th>\n",
       "      <th>X384</th>\n",
       "      <th>X385</th>\n",
       "    </tr>\n",
       "  </thead>\n",
       "  <tbody>\n",
       "    <tr>\n",
       "      <th>0</th>\n",
       "      <td>0</td>\n",
       "      <td>130.81</td>\n",
       "      <td>k</td>\n",
       "      <td>v</td>\n",
       "      <td>at</td>\n",
       "      <td>a</td>\n",
       "      <td>d</td>\n",
       "      <td>u</td>\n",
       "      <td>j</td>\n",
       "      <td>o</td>\n",
       "      <td>...</td>\n",
       "      <td>0</td>\n",
       "      <td>0</td>\n",
       "      <td>1</td>\n",
       "      <td>0</td>\n",
       "      <td>0</td>\n",
       "      <td>0</td>\n",
       "      <td>0</td>\n",
       "      <td>0</td>\n",
       "      <td>0</td>\n",
       "      <td>0</td>\n",
       "    </tr>\n",
       "    <tr>\n",
       "      <th>1</th>\n",
       "      <td>6</td>\n",
       "      <td>88.53</td>\n",
       "      <td>k</td>\n",
       "      <td>t</td>\n",
       "      <td>av</td>\n",
       "      <td>e</td>\n",
       "      <td>d</td>\n",
       "      <td>y</td>\n",
       "      <td>l</td>\n",
       "      <td>o</td>\n",
       "      <td>...</td>\n",
       "      <td>1</td>\n",
       "      <td>0</td>\n",
       "      <td>0</td>\n",
       "      <td>0</td>\n",
       "      <td>0</td>\n",
       "      <td>0</td>\n",
       "      <td>0</td>\n",
       "      <td>0</td>\n",
       "      <td>0</td>\n",
       "      <td>0</td>\n",
       "    </tr>\n",
       "    <tr>\n",
       "      <th>2</th>\n",
       "      <td>7</td>\n",
       "      <td>76.26</td>\n",
       "      <td>az</td>\n",
       "      <td>w</td>\n",
       "      <td>n</td>\n",
       "      <td>c</td>\n",
       "      <td>d</td>\n",
       "      <td>x</td>\n",
       "      <td>j</td>\n",
       "      <td>x</td>\n",
       "      <td>...</td>\n",
       "      <td>0</td>\n",
       "      <td>0</td>\n",
       "      <td>0</td>\n",
       "      <td>0</td>\n",
       "      <td>0</td>\n",
       "      <td>0</td>\n",
       "      <td>1</td>\n",
       "      <td>0</td>\n",
       "      <td>0</td>\n",
       "      <td>0</td>\n",
       "    </tr>\n",
       "    <tr>\n",
       "      <th>3</th>\n",
       "      <td>9</td>\n",
       "      <td>80.62</td>\n",
       "      <td>az</td>\n",
       "      <td>t</td>\n",
       "      <td>n</td>\n",
       "      <td>f</td>\n",
       "      <td>d</td>\n",
       "      <td>x</td>\n",
       "      <td>l</td>\n",
       "      <td>e</td>\n",
       "      <td>...</td>\n",
       "      <td>0</td>\n",
       "      <td>0</td>\n",
       "      <td>0</td>\n",
       "      <td>0</td>\n",
       "      <td>0</td>\n",
       "      <td>0</td>\n",
       "      <td>0</td>\n",
       "      <td>0</td>\n",
       "      <td>0</td>\n",
       "      <td>0</td>\n",
       "    </tr>\n",
       "    <tr>\n",
       "      <th>4</th>\n",
       "      <td>13</td>\n",
       "      <td>78.02</td>\n",
       "      <td>az</td>\n",
       "      <td>v</td>\n",
       "      <td>n</td>\n",
       "      <td>f</td>\n",
       "      <td>d</td>\n",
       "      <td>h</td>\n",
       "      <td>d</td>\n",
       "      <td>n</td>\n",
       "      <td>...</td>\n",
       "      <td>0</td>\n",
       "      <td>0</td>\n",
       "      <td>0</td>\n",
       "      <td>0</td>\n",
       "      <td>0</td>\n",
       "      <td>0</td>\n",
       "      <td>0</td>\n",
       "      <td>0</td>\n",
       "      <td>0</td>\n",
       "      <td>0</td>\n",
       "    </tr>\n",
       "  </tbody>\n",
       "</table>\n",
       "<p>5 rows × 378 columns</p>\n",
       "</div>"
      ],
      "text/plain": [
       "   ID       y  X0 X1  X2 X3 X4 X5 X6 X8  ...  X375  X376  X377  X378  X379  \\\n",
       "0   0  130.81   k  v  at  a  d  u  j  o  ...     0     0     1     0     0   \n",
       "1   6   88.53   k  t  av  e  d  y  l  o  ...     1     0     0     0     0   \n",
       "2   7   76.26  az  w   n  c  d  x  j  x  ...     0     0     0     0     0   \n",
       "3   9   80.62  az  t   n  f  d  x  l  e  ...     0     0     0     0     0   \n",
       "4  13   78.02  az  v   n  f  d  h  d  n  ...     0     0     0     0     0   \n",
       "\n",
       "   X380  X382  X383  X384  X385  \n",
       "0     0     0     0     0     0  \n",
       "1     0     0     0     0     0  \n",
       "2     0     1     0     0     0  \n",
       "3     0     0     0     0     0  \n",
       "4     0     0     0     0     0  \n",
       "\n",
       "[5 rows x 378 columns]"
      ]
     },
     "execution_count": 10,
     "metadata": {},
     "output_type": "execute_result"
    }
   ],
   "source": [
    "df_train.head()"
   ]
  },
  {
   "cell_type": "code",
   "execution_count": 11,
   "metadata": {},
   "outputs": [
    {
     "data": {
      "text/plain": [
       "pandas.core.frame.DataFrame"
      ]
     },
     "execution_count": 11,
     "metadata": {},
     "output_type": "execute_result"
    }
   ],
   "source": [
    "type(df_train)"
   ]
  },
  {
   "cell_type": "code",
   "execution_count": 12,
   "metadata": {},
   "outputs": [
    {
     "data": {
      "text/html": [
       "<div>\n",
       "<style scoped>\n",
       "    .dataframe tbody tr th:only-of-type {\n",
       "        vertical-align: middle;\n",
       "    }\n",
       "\n",
       "    .dataframe tbody tr th {\n",
       "        vertical-align: top;\n",
       "    }\n",
       "\n",
       "    .dataframe thead th {\n",
       "        text-align: right;\n",
       "    }\n",
       "</style>\n",
       "<table border=\"1\" class=\"dataframe\">\n",
       "  <thead>\n",
       "    <tr style=\"text-align: right;\">\n",
       "      <th></th>\n",
       "      <th>ID</th>\n",
       "      <th>y</th>\n",
       "      <th>X10</th>\n",
       "      <th>X11</th>\n",
       "      <th>X12</th>\n",
       "      <th>X13</th>\n",
       "      <th>X14</th>\n",
       "      <th>X15</th>\n",
       "      <th>X16</th>\n",
       "      <th>X17</th>\n",
       "      <th>...</th>\n",
       "      <th>X375</th>\n",
       "      <th>X376</th>\n",
       "      <th>X377</th>\n",
       "      <th>X378</th>\n",
       "      <th>X379</th>\n",
       "      <th>X380</th>\n",
       "      <th>X382</th>\n",
       "      <th>X383</th>\n",
       "      <th>X384</th>\n",
       "      <th>X385</th>\n",
       "    </tr>\n",
       "  </thead>\n",
       "  <tbody>\n",
       "    <tr>\n",
       "      <th>count</th>\n",
       "      <td>4209.000000</td>\n",
       "      <td>4209.000000</td>\n",
       "      <td>4209.000000</td>\n",
       "      <td>4209.0</td>\n",
       "      <td>4209.000000</td>\n",
       "      <td>4209.000000</td>\n",
       "      <td>4209.000000</td>\n",
       "      <td>4209.000000</td>\n",
       "      <td>4209.000000</td>\n",
       "      <td>4209.000000</td>\n",
       "      <td>...</td>\n",
       "      <td>4209.000000</td>\n",
       "      <td>4209.000000</td>\n",
       "      <td>4209.000000</td>\n",
       "      <td>4209.000000</td>\n",
       "      <td>4209.000000</td>\n",
       "      <td>4209.000000</td>\n",
       "      <td>4209.000000</td>\n",
       "      <td>4209.000000</td>\n",
       "      <td>4209.000000</td>\n",
       "      <td>4209.000000</td>\n",
       "    </tr>\n",
       "    <tr>\n",
       "      <th>mean</th>\n",
       "      <td>4205.960798</td>\n",
       "      <td>100.669318</td>\n",
       "      <td>0.013305</td>\n",
       "      <td>0.0</td>\n",
       "      <td>0.075077</td>\n",
       "      <td>0.057971</td>\n",
       "      <td>0.428130</td>\n",
       "      <td>0.000475</td>\n",
       "      <td>0.002613</td>\n",
       "      <td>0.007603</td>\n",
       "      <td>...</td>\n",
       "      <td>0.318841</td>\n",
       "      <td>0.057258</td>\n",
       "      <td>0.314802</td>\n",
       "      <td>0.020670</td>\n",
       "      <td>0.009503</td>\n",
       "      <td>0.008078</td>\n",
       "      <td>0.007603</td>\n",
       "      <td>0.001663</td>\n",
       "      <td>0.000475</td>\n",
       "      <td>0.001426</td>\n",
       "    </tr>\n",
       "    <tr>\n",
       "      <th>std</th>\n",
       "      <td>2437.608688</td>\n",
       "      <td>12.679381</td>\n",
       "      <td>0.114590</td>\n",
       "      <td>0.0</td>\n",
       "      <td>0.263547</td>\n",
       "      <td>0.233716</td>\n",
       "      <td>0.494867</td>\n",
       "      <td>0.021796</td>\n",
       "      <td>0.051061</td>\n",
       "      <td>0.086872</td>\n",
       "      <td>...</td>\n",
       "      <td>0.466082</td>\n",
       "      <td>0.232363</td>\n",
       "      <td>0.464492</td>\n",
       "      <td>0.142294</td>\n",
       "      <td>0.097033</td>\n",
       "      <td>0.089524</td>\n",
       "      <td>0.086872</td>\n",
       "      <td>0.040752</td>\n",
       "      <td>0.021796</td>\n",
       "      <td>0.037734</td>\n",
       "    </tr>\n",
       "    <tr>\n",
       "      <th>min</th>\n",
       "      <td>0.000000</td>\n",
       "      <td>72.110000</td>\n",
       "      <td>0.000000</td>\n",
       "      <td>0.0</td>\n",
       "      <td>0.000000</td>\n",
       "      <td>0.000000</td>\n",
       "      <td>0.000000</td>\n",
       "      <td>0.000000</td>\n",
       "      <td>0.000000</td>\n",
       "      <td>0.000000</td>\n",
       "      <td>...</td>\n",
       "      <td>0.000000</td>\n",
       "      <td>0.000000</td>\n",
       "      <td>0.000000</td>\n",
       "      <td>0.000000</td>\n",
       "      <td>0.000000</td>\n",
       "      <td>0.000000</td>\n",
       "      <td>0.000000</td>\n",
       "      <td>0.000000</td>\n",
       "      <td>0.000000</td>\n",
       "      <td>0.000000</td>\n",
       "    </tr>\n",
       "    <tr>\n",
       "      <th>25%</th>\n",
       "      <td>2095.000000</td>\n",
       "      <td>90.820000</td>\n",
       "      <td>0.000000</td>\n",
       "      <td>0.0</td>\n",
       "      <td>0.000000</td>\n",
       "      <td>0.000000</td>\n",
       "      <td>0.000000</td>\n",
       "      <td>0.000000</td>\n",
       "      <td>0.000000</td>\n",
       "      <td>0.000000</td>\n",
       "      <td>...</td>\n",
       "      <td>0.000000</td>\n",
       "      <td>0.000000</td>\n",
       "      <td>0.000000</td>\n",
       "      <td>0.000000</td>\n",
       "      <td>0.000000</td>\n",
       "      <td>0.000000</td>\n",
       "      <td>0.000000</td>\n",
       "      <td>0.000000</td>\n",
       "      <td>0.000000</td>\n",
       "      <td>0.000000</td>\n",
       "    </tr>\n",
       "    <tr>\n",
       "      <th>50%</th>\n",
       "      <td>4220.000000</td>\n",
       "      <td>99.150000</td>\n",
       "      <td>0.000000</td>\n",
       "      <td>0.0</td>\n",
       "      <td>0.000000</td>\n",
       "      <td>0.000000</td>\n",
       "      <td>0.000000</td>\n",
       "      <td>0.000000</td>\n",
       "      <td>0.000000</td>\n",
       "      <td>0.000000</td>\n",
       "      <td>...</td>\n",
       "      <td>0.000000</td>\n",
       "      <td>0.000000</td>\n",
       "      <td>0.000000</td>\n",
       "      <td>0.000000</td>\n",
       "      <td>0.000000</td>\n",
       "      <td>0.000000</td>\n",
       "      <td>0.000000</td>\n",
       "      <td>0.000000</td>\n",
       "      <td>0.000000</td>\n",
       "      <td>0.000000</td>\n",
       "    </tr>\n",
       "    <tr>\n",
       "      <th>75%</th>\n",
       "      <td>6314.000000</td>\n",
       "      <td>109.010000</td>\n",
       "      <td>0.000000</td>\n",
       "      <td>0.0</td>\n",
       "      <td>0.000000</td>\n",
       "      <td>0.000000</td>\n",
       "      <td>1.000000</td>\n",
       "      <td>0.000000</td>\n",
       "      <td>0.000000</td>\n",
       "      <td>0.000000</td>\n",
       "      <td>...</td>\n",
       "      <td>1.000000</td>\n",
       "      <td>0.000000</td>\n",
       "      <td>1.000000</td>\n",
       "      <td>0.000000</td>\n",
       "      <td>0.000000</td>\n",
       "      <td>0.000000</td>\n",
       "      <td>0.000000</td>\n",
       "      <td>0.000000</td>\n",
       "      <td>0.000000</td>\n",
       "      <td>0.000000</td>\n",
       "    </tr>\n",
       "    <tr>\n",
       "      <th>max</th>\n",
       "      <td>8417.000000</td>\n",
       "      <td>265.320000</td>\n",
       "      <td>1.000000</td>\n",
       "      <td>0.0</td>\n",
       "      <td>1.000000</td>\n",
       "      <td>1.000000</td>\n",
       "      <td>1.000000</td>\n",
       "      <td>1.000000</td>\n",
       "      <td>1.000000</td>\n",
       "      <td>1.000000</td>\n",
       "      <td>...</td>\n",
       "      <td>1.000000</td>\n",
       "      <td>1.000000</td>\n",
       "      <td>1.000000</td>\n",
       "      <td>1.000000</td>\n",
       "      <td>1.000000</td>\n",
       "      <td>1.000000</td>\n",
       "      <td>1.000000</td>\n",
       "      <td>1.000000</td>\n",
       "      <td>1.000000</td>\n",
       "      <td>1.000000</td>\n",
       "    </tr>\n",
       "  </tbody>\n",
       "</table>\n",
       "<p>8 rows × 370 columns</p>\n",
       "</div>"
      ],
      "text/plain": [
       "                ID            y          X10     X11          X12  \\\n",
       "count  4209.000000  4209.000000  4209.000000  4209.0  4209.000000   \n",
       "mean   4205.960798   100.669318     0.013305     0.0     0.075077   \n",
       "std    2437.608688    12.679381     0.114590     0.0     0.263547   \n",
       "min       0.000000    72.110000     0.000000     0.0     0.000000   \n",
       "25%    2095.000000    90.820000     0.000000     0.0     0.000000   \n",
       "50%    4220.000000    99.150000     0.000000     0.0     0.000000   \n",
       "75%    6314.000000   109.010000     0.000000     0.0     0.000000   \n",
       "max    8417.000000   265.320000     1.000000     0.0     1.000000   \n",
       "\n",
       "               X13          X14          X15          X16          X17  ...  \\\n",
       "count  4209.000000  4209.000000  4209.000000  4209.000000  4209.000000  ...   \n",
       "mean      0.057971     0.428130     0.000475     0.002613     0.007603  ...   \n",
       "std       0.233716     0.494867     0.021796     0.051061     0.086872  ...   \n",
       "min       0.000000     0.000000     0.000000     0.000000     0.000000  ...   \n",
       "25%       0.000000     0.000000     0.000000     0.000000     0.000000  ...   \n",
       "50%       0.000000     0.000000     0.000000     0.000000     0.000000  ...   \n",
       "75%       0.000000     1.000000     0.000000     0.000000     0.000000  ...   \n",
       "max       1.000000     1.000000     1.000000     1.000000     1.000000  ...   \n",
       "\n",
       "              X375         X376         X377         X378         X379  \\\n",
       "count  4209.000000  4209.000000  4209.000000  4209.000000  4209.000000   \n",
       "mean      0.318841     0.057258     0.314802     0.020670     0.009503   \n",
       "std       0.466082     0.232363     0.464492     0.142294     0.097033   \n",
       "min       0.000000     0.000000     0.000000     0.000000     0.000000   \n",
       "25%       0.000000     0.000000     0.000000     0.000000     0.000000   \n",
       "50%       0.000000     0.000000     0.000000     0.000000     0.000000   \n",
       "75%       1.000000     0.000000     1.000000     0.000000     0.000000   \n",
       "max       1.000000     1.000000     1.000000     1.000000     1.000000   \n",
       "\n",
       "              X380         X382         X383         X384         X385  \n",
       "count  4209.000000  4209.000000  4209.000000  4209.000000  4209.000000  \n",
       "mean      0.008078     0.007603     0.001663     0.000475     0.001426  \n",
       "std       0.089524     0.086872     0.040752     0.021796     0.037734  \n",
       "min       0.000000     0.000000     0.000000     0.000000     0.000000  \n",
       "25%       0.000000     0.000000     0.000000     0.000000     0.000000  \n",
       "50%       0.000000     0.000000     0.000000     0.000000     0.000000  \n",
       "75%       0.000000     0.000000     0.000000     0.000000     0.000000  \n",
       "max       1.000000     1.000000     1.000000     1.000000     1.000000  \n",
       "\n",
       "[8 rows x 370 columns]"
      ]
     },
     "execution_count": 12,
     "metadata": {},
     "output_type": "execute_result"
    }
   ],
   "source": [
    "df_train.describe()"
   ]
  },
  {
   "cell_type": "code",
   "execution_count": 13,
   "metadata": {},
   "outputs": [
    {
     "name": "stdout",
     "output_type": "stream",
     "text": [
      "<class 'pandas.core.frame.DataFrame'>\n",
      "RangeIndex: 4209 entries, 0 to 4208\n",
      "Columns: 378 entries, ID to X385\n",
      "dtypes: float64(1), int64(369), object(8)\n",
      "memory usage: 12.1+ MB\n"
     ]
    }
   ],
   "source": [
    "df_train.info()"
   ]
  },
  {
   "cell_type": "code",
   "execution_count": 14,
   "metadata": {},
   "outputs": [
    {
     "data": {
      "text/plain": [
       "ID        int64\n",
       "y       float64\n",
       "X0       object\n",
       "X1       object\n",
       "X2       object\n",
       "         ...   \n",
       "X380      int64\n",
       "X382      int64\n",
       "X383      int64\n",
       "X384      int64\n",
       "X385      int64\n",
       "Length: 378, dtype: object"
      ]
     },
     "execution_count": 14,
     "metadata": {},
     "output_type": "execute_result"
    }
   ],
   "source": [
    "df_train.dtypes"
   ]
  },
  {
   "cell_type": "code",
   "execution_count": null,
   "metadata": {},
   "outputs": [],
   "source": [
    "##We observe the nature of our indexes by printing the numerical and categorical features size of the columns.\n",
    "#From X0 to X8 are categorical variables. \n",
    "#The target variable is continuous. The other indexes are binary nominal data type. \n",
    "#The numeric(binary) - presence/absence of the car feature"
   ]
  },
  {
   "cell_type": "code",
   "execution_count": 15,
   "metadata": {},
   "outputs": [
    {
     "name": "stdout",
     "output_type": "stream",
     "text": [
      "Numerical feature size: 370\n",
      "Categorical feature size: 8\n"
     ]
    }
   ],
   "source": [
    "numerical_features = df_train.select_dtypes(include=[np.number]).columns\n",
    "categorical_features = df_test.select_dtypes(include=[np.object]).columns\n",
    "\n",
    "print('Numerical feature size: {}'.format(len(numerical_features)))\n",
    "print('Categorical feature size: {}'.format(len(categorical_features)))\n"
   ]
  },
  {
   "cell_type": "code",
   "execution_count": 16,
   "metadata": {},
   "outputs": [
    {
     "data": {
      "text/plain": [
       "Index(['X10', 'X11', 'X12', 'X13', 'X14', 'X15', 'X16', 'X17', 'X18', 'X19',\n",
       "       ...\n",
       "       'X375', 'X376', 'X377', 'X378', 'X379', 'X380', 'X382', 'X383', 'X384',\n",
       "       'X385'],\n",
       "      dtype='object', length=368)"
      ]
     },
     "execution_count": 16,
     "metadata": {},
     "output_type": "execute_result"
    }
   ],
   "source": [
    "#We see what are those columns after column 10\n",
    "df_train.columns[10:]"
   ]
  },
  {
   "cell_type": "code",
   "execution_count": 17,
   "metadata": {},
   "outputs": [
    {
     "data": {
      "text/plain": [
       "array(['X10', 'X100', 'X101', 'X102', 'X103', 'X104', 'X105', 'X106',\n",
       "       'X107', 'X108', 'X109', 'X11', 'X110', 'X111', 'X112', 'X113',\n",
       "       'X114', 'X115', 'X116', 'X117', 'X118', 'X119', 'X12', 'X120',\n",
       "       'X122', 'X123', 'X124', 'X125', 'X126', 'X127', 'X128', 'X129',\n",
       "       'X13', 'X130', 'X131', 'X132', 'X133', 'X134', 'X135', 'X136',\n",
       "       'X137', 'X138', 'X139', 'X14', 'X140', 'X141', 'X142', 'X143',\n",
       "       'X144', 'X145', 'X146', 'X147', 'X148', 'X15', 'X150', 'X151',\n",
       "       'X152', 'X153', 'X154', 'X155', 'X156', 'X157', 'X158', 'X159',\n",
       "       'X16', 'X160', 'X161', 'X162', 'X163', 'X164', 'X165', 'X166',\n",
       "       'X167', 'X168', 'X169', 'X17', 'X170', 'X171', 'X172', 'X173',\n",
       "       'X174', 'X175', 'X176', 'X177', 'X178', 'X179', 'X18', 'X180',\n",
       "       'X181', 'X182', 'X183', 'X184', 'X185', 'X186', 'X187', 'X189',\n",
       "       'X19', 'X190', 'X191', 'X192', 'X194', 'X195', 'X196', 'X197',\n",
       "       'X198', 'X199', 'X20', 'X200', 'X201', 'X202', 'X203', 'X204',\n",
       "       'X205', 'X206', 'X207', 'X208', 'X209', 'X21', 'X210', 'X211',\n",
       "       'X212', 'X213', 'X214', 'X215', 'X216', 'X217', 'X218', 'X219',\n",
       "       'X22', 'X220', 'X221', 'X222', 'X223', 'X224', 'X225', 'X226',\n",
       "       'X227', 'X228', 'X229', 'X23', 'X230', 'X231', 'X232', 'X233',\n",
       "       'X234', 'X235', 'X236', 'X237', 'X238', 'X239', 'X24', 'X240',\n",
       "       'X241', 'X242', 'X243', 'X244', 'X245', 'X246', 'X247', 'X248',\n",
       "       'X249', 'X250', 'X251', 'X252', 'X253', 'X254', 'X255', 'X256',\n",
       "       'X257', 'X258', 'X259', 'X26', 'X260', 'X261', 'X262', 'X263',\n",
       "       'X264', 'X265', 'X266', 'X267', 'X268', 'X269', 'X27', 'X270',\n",
       "       'X271', 'X272', 'X273', 'X274', 'X275', 'X276', 'X277', 'X278',\n",
       "       'X279', 'X28', 'X280', 'X281', 'X282', 'X283', 'X284', 'X285',\n",
       "       'X286', 'X287', 'X288', 'X289', 'X29', 'X290', 'X291', 'X292',\n",
       "       'X293', 'X294', 'X295', 'X296', 'X297', 'X298', 'X299', 'X30',\n",
       "       'X300', 'X301', 'X302', 'X304', 'X305', 'X306', 'X307', 'X308',\n",
       "       'X309', 'X31', 'X310', 'X311', 'X312', 'X313', 'X314', 'X315',\n",
       "       'X316', 'X317', 'X318', 'X319', 'X32', 'X320', 'X321', 'X322',\n",
       "       'X323', 'X324', 'X325', 'X326', 'X327', 'X328', 'X329', 'X33',\n",
       "       'X330', 'X331', 'X332', 'X333', 'X334', 'X335', 'X336', 'X337',\n",
       "       'X338', 'X339', 'X34', 'X340', 'X341', 'X342', 'X343', 'X344',\n",
       "       'X345', 'X346', 'X347', 'X348', 'X349', 'X35', 'X350', 'X351',\n",
       "       'X352', 'X353', 'X354', 'X355', 'X356', 'X357', 'X358', 'X359',\n",
       "       'X36', 'X360', 'X361', 'X362', 'X363', 'X364', 'X365', 'X366',\n",
       "       'X367', 'X368', 'X369', 'X37', 'X370', 'X371', 'X372', 'X373',\n",
       "       'X374', 'X375', 'X376', 'X377', 'X378', 'X379', 'X38', 'X380',\n",
       "       'X382', 'X383', 'X384', 'X385', 'X39', 'X40', 'X41', 'X42', 'X43',\n",
       "       'X44', 'X45', 'X46', 'X47', 'X48', 'X49', 'X50', 'X51', 'X52',\n",
       "       'X53', 'X54', 'X55', 'X56', 'X57', 'X58', 'X59', 'X60', 'X61',\n",
       "       'X62', 'X63', 'X64', 'X65', 'X66', 'X67', 'X68', 'X69', 'X70',\n",
       "       'X71', 'X73', 'X74', 'X75', 'X76', 'X77', 'X78', 'X79', 'X80',\n",
       "       'X81', 'X82', 'X83', 'X84', 'X85', 'X86', 'X87', 'X88', 'X89',\n",
       "       'X90', 'X91', 'X92', 'X93', 'X94', 'X95', 'X96', 'X97', 'X98',\n",
       "       'X99'], dtype=object)"
      ]
     },
     "execution_count": 17,
     "metadata": {},
     "output_type": "execute_result"
    }
   ],
   "source": [
    "#We check the columns with unique values\n",
    "np.unique(df_train.columns[10:])"
   ]
  },
  {
   "cell_type": "code",
   "execution_count": 18,
   "metadata": {},
   "outputs": [
    {
     "data": {
      "text/plain": [
       "array([0, 1], dtype=int64)"
      ]
     },
     "execution_count": 18,
     "metadata": {},
     "output_type": "execute_result"
    }
   ],
   "source": [
    "#We check if they are real binary\n",
    "np.unique(df_train[df_train.columns[10:]])"
   ]
  },
  {
   "cell_type": "code",
   "execution_count": 19,
   "metadata": {},
   "outputs": [
    {
     "data": {
      "text/html": [
       "<div>\n",
       "<style scoped>\n",
       "    .dataframe tbody tr th:only-of-type {\n",
       "        vertical-align: middle;\n",
       "    }\n",
       "\n",
       "    .dataframe tbody tr th {\n",
       "        vertical-align: top;\n",
       "    }\n",
       "\n",
       "    .dataframe thead th {\n",
       "        text-align: right;\n",
       "    }\n",
       "</style>\n",
       "<table border=\"1\" class=\"dataframe\">\n",
       "  <thead>\n",
       "    <tr style=\"text-align: right;\">\n",
       "      <th></th>\n",
       "      <th>ID</th>\n",
       "      <th>y</th>\n",
       "      <th>X0</th>\n",
       "      <th>X1</th>\n",
       "      <th>X2</th>\n",
       "      <th>X3</th>\n",
       "      <th>X4</th>\n",
       "      <th>X5</th>\n",
       "      <th>X6</th>\n",
       "      <th>X8</th>\n",
       "      <th>...</th>\n",
       "      <th>X375</th>\n",
       "      <th>X376</th>\n",
       "      <th>X377</th>\n",
       "      <th>X378</th>\n",
       "      <th>X379</th>\n",
       "      <th>X380</th>\n",
       "      <th>X382</th>\n",
       "      <th>X383</th>\n",
       "      <th>X384</th>\n",
       "      <th>X385</th>\n",
       "    </tr>\n",
       "  </thead>\n",
       "  <tbody>\n",
       "    <tr>\n",
       "      <th>0</th>\n",
       "      <td>0</td>\n",
       "      <td>130.81</td>\n",
       "      <td>k</td>\n",
       "      <td>v</td>\n",
       "      <td>at</td>\n",
       "      <td>a</td>\n",
       "      <td>d</td>\n",
       "      <td>u</td>\n",
       "      <td>j</td>\n",
       "      <td>o</td>\n",
       "      <td>...</td>\n",
       "      <td>0</td>\n",
       "      <td>0</td>\n",
       "      <td>1</td>\n",
       "      <td>0</td>\n",
       "      <td>0</td>\n",
       "      <td>0</td>\n",
       "      <td>0</td>\n",
       "      <td>0</td>\n",
       "      <td>0</td>\n",
       "      <td>0</td>\n",
       "    </tr>\n",
       "    <tr>\n",
       "      <th>1</th>\n",
       "      <td>6</td>\n",
       "      <td>88.53</td>\n",
       "      <td>k</td>\n",
       "      <td>t</td>\n",
       "      <td>av</td>\n",
       "      <td>e</td>\n",
       "      <td>d</td>\n",
       "      <td>y</td>\n",
       "      <td>l</td>\n",
       "      <td>o</td>\n",
       "      <td>...</td>\n",
       "      <td>1</td>\n",
       "      <td>0</td>\n",
       "      <td>0</td>\n",
       "      <td>0</td>\n",
       "      <td>0</td>\n",
       "      <td>0</td>\n",
       "      <td>0</td>\n",
       "      <td>0</td>\n",
       "      <td>0</td>\n",
       "      <td>0</td>\n",
       "    </tr>\n",
       "    <tr>\n",
       "      <th>2</th>\n",
       "      <td>7</td>\n",
       "      <td>76.26</td>\n",
       "      <td>az</td>\n",
       "      <td>w</td>\n",
       "      <td>n</td>\n",
       "      <td>c</td>\n",
       "      <td>d</td>\n",
       "      <td>x</td>\n",
       "      <td>j</td>\n",
       "      <td>x</td>\n",
       "      <td>...</td>\n",
       "      <td>0</td>\n",
       "      <td>0</td>\n",
       "      <td>0</td>\n",
       "      <td>0</td>\n",
       "      <td>0</td>\n",
       "      <td>0</td>\n",
       "      <td>1</td>\n",
       "      <td>0</td>\n",
       "      <td>0</td>\n",
       "      <td>0</td>\n",
       "    </tr>\n",
       "    <tr>\n",
       "      <th>3</th>\n",
       "      <td>9</td>\n",
       "      <td>80.62</td>\n",
       "      <td>az</td>\n",
       "      <td>t</td>\n",
       "      <td>n</td>\n",
       "      <td>f</td>\n",
       "      <td>d</td>\n",
       "      <td>x</td>\n",
       "      <td>l</td>\n",
       "      <td>e</td>\n",
       "      <td>...</td>\n",
       "      <td>0</td>\n",
       "      <td>0</td>\n",
       "      <td>0</td>\n",
       "      <td>0</td>\n",
       "      <td>0</td>\n",
       "      <td>0</td>\n",
       "      <td>0</td>\n",
       "      <td>0</td>\n",
       "      <td>0</td>\n",
       "      <td>0</td>\n",
       "    </tr>\n",
       "    <tr>\n",
       "      <th>4</th>\n",
       "      <td>13</td>\n",
       "      <td>78.02</td>\n",
       "      <td>az</td>\n",
       "      <td>v</td>\n",
       "      <td>n</td>\n",
       "      <td>f</td>\n",
       "      <td>d</td>\n",
       "      <td>h</td>\n",
       "      <td>d</td>\n",
       "      <td>n</td>\n",
       "      <td>...</td>\n",
       "      <td>0</td>\n",
       "      <td>0</td>\n",
       "      <td>0</td>\n",
       "      <td>0</td>\n",
       "      <td>0</td>\n",
       "      <td>0</td>\n",
       "      <td>0</td>\n",
       "      <td>0</td>\n",
       "      <td>0</td>\n",
       "      <td>0</td>\n",
       "    </tr>\n",
       "    <tr>\n",
       "      <th>...</th>\n",
       "      <td>...</td>\n",
       "      <td>...</td>\n",
       "      <td>...</td>\n",
       "      <td>...</td>\n",
       "      <td>...</td>\n",
       "      <td>...</td>\n",
       "      <td>...</td>\n",
       "      <td>...</td>\n",
       "      <td>...</td>\n",
       "      <td>...</td>\n",
       "      <td>...</td>\n",
       "      <td>...</td>\n",
       "      <td>...</td>\n",
       "      <td>...</td>\n",
       "      <td>...</td>\n",
       "      <td>...</td>\n",
       "      <td>...</td>\n",
       "      <td>...</td>\n",
       "      <td>...</td>\n",
       "      <td>...</td>\n",
       "      <td>...</td>\n",
       "    </tr>\n",
       "    <tr>\n",
       "      <th>4204</th>\n",
       "      <td>8405</td>\n",
       "      <td>107.39</td>\n",
       "      <td>ak</td>\n",
       "      <td>s</td>\n",
       "      <td>as</td>\n",
       "      <td>c</td>\n",
       "      <td>d</td>\n",
       "      <td>aa</td>\n",
       "      <td>d</td>\n",
       "      <td>q</td>\n",
       "      <td>...</td>\n",
       "      <td>1</td>\n",
       "      <td>0</td>\n",
       "      <td>0</td>\n",
       "      <td>0</td>\n",
       "      <td>0</td>\n",
       "      <td>0</td>\n",
       "      <td>0</td>\n",
       "      <td>0</td>\n",
       "      <td>0</td>\n",
       "      <td>0</td>\n",
       "    </tr>\n",
       "    <tr>\n",
       "      <th>4205</th>\n",
       "      <td>8406</td>\n",
       "      <td>108.77</td>\n",
       "      <td>j</td>\n",
       "      <td>o</td>\n",
       "      <td>t</td>\n",
       "      <td>d</td>\n",
       "      <td>d</td>\n",
       "      <td>aa</td>\n",
       "      <td>h</td>\n",
       "      <td>h</td>\n",
       "      <td>...</td>\n",
       "      <td>0</td>\n",
       "      <td>1</td>\n",
       "      <td>0</td>\n",
       "      <td>0</td>\n",
       "      <td>0</td>\n",
       "      <td>0</td>\n",
       "      <td>0</td>\n",
       "      <td>0</td>\n",
       "      <td>0</td>\n",
       "      <td>0</td>\n",
       "    </tr>\n",
       "    <tr>\n",
       "      <th>4206</th>\n",
       "      <td>8412</td>\n",
       "      <td>109.22</td>\n",
       "      <td>ak</td>\n",
       "      <td>v</td>\n",
       "      <td>r</td>\n",
       "      <td>a</td>\n",
       "      <td>d</td>\n",
       "      <td>aa</td>\n",
       "      <td>g</td>\n",
       "      <td>e</td>\n",
       "      <td>...</td>\n",
       "      <td>0</td>\n",
       "      <td>0</td>\n",
       "      <td>1</td>\n",
       "      <td>0</td>\n",
       "      <td>0</td>\n",
       "      <td>0</td>\n",
       "      <td>0</td>\n",
       "      <td>0</td>\n",
       "      <td>0</td>\n",
       "      <td>0</td>\n",
       "    </tr>\n",
       "    <tr>\n",
       "      <th>4207</th>\n",
       "      <td>8415</td>\n",
       "      <td>87.48</td>\n",
       "      <td>al</td>\n",
       "      <td>r</td>\n",
       "      <td>e</td>\n",
       "      <td>f</td>\n",
       "      <td>d</td>\n",
       "      <td>aa</td>\n",
       "      <td>l</td>\n",
       "      <td>u</td>\n",
       "      <td>...</td>\n",
       "      <td>0</td>\n",
       "      <td>0</td>\n",
       "      <td>0</td>\n",
       "      <td>0</td>\n",
       "      <td>0</td>\n",
       "      <td>0</td>\n",
       "      <td>0</td>\n",
       "      <td>0</td>\n",
       "      <td>0</td>\n",
       "      <td>0</td>\n",
       "    </tr>\n",
       "    <tr>\n",
       "      <th>4208</th>\n",
       "      <td>8417</td>\n",
       "      <td>110.85</td>\n",
       "      <td>z</td>\n",
       "      <td>r</td>\n",
       "      <td>ae</td>\n",
       "      <td>c</td>\n",
       "      <td>d</td>\n",
       "      <td>aa</td>\n",
       "      <td>g</td>\n",
       "      <td>w</td>\n",
       "      <td>...</td>\n",
       "      <td>1</td>\n",
       "      <td>0</td>\n",
       "      <td>0</td>\n",
       "      <td>0</td>\n",
       "      <td>0</td>\n",
       "      <td>0</td>\n",
       "      <td>0</td>\n",
       "      <td>0</td>\n",
       "      <td>0</td>\n",
       "      <td>0</td>\n",
       "    </tr>\n",
       "  </tbody>\n",
       "</table>\n",
       "<p>4209 rows × 366 columns</p>\n",
       "</div>"
      ],
      "text/plain": [
       "        ID       y  X0 X1  X2 X3 X4  X5 X6 X8  ...  X375  X376  X377  X378  \\\n",
       "0        0  130.81   k  v  at  a  d   u  j  o  ...     0     0     1     0   \n",
       "1        6   88.53   k  t  av  e  d   y  l  o  ...     1     0     0     0   \n",
       "2        7   76.26  az  w   n  c  d   x  j  x  ...     0     0     0     0   \n",
       "3        9   80.62  az  t   n  f  d   x  l  e  ...     0     0     0     0   \n",
       "4       13   78.02  az  v   n  f  d   h  d  n  ...     0     0     0     0   \n",
       "...    ...     ...  .. ..  .. .. ..  .. .. ..  ...   ...   ...   ...   ...   \n",
       "4204  8405  107.39  ak  s  as  c  d  aa  d  q  ...     1     0     0     0   \n",
       "4205  8406  108.77   j  o   t  d  d  aa  h  h  ...     0     1     0     0   \n",
       "4206  8412  109.22  ak  v   r  a  d  aa  g  e  ...     0     0     1     0   \n",
       "4207  8415   87.48  al  r   e  f  d  aa  l  u  ...     0     0     0     0   \n",
       "4208  8417  110.85   z  r  ae  c  d  aa  g  w  ...     1     0     0     0   \n",
       "\n",
       "      X379  X380  X382  X383  X384  X385  \n",
       "0        0     0     0     0     0     0  \n",
       "1        0     0     0     0     0     0  \n",
       "2        0     0     1     0     0     0  \n",
       "3        0     0     0     0     0     0  \n",
       "4        0     0     0     0     0     0  \n",
       "...    ...   ...   ...   ...   ...   ...  \n",
       "4204     0     0     0     0     0     0  \n",
       "4205     0     0     0     0     0     0  \n",
       "4206     0     0     0     0     0     0  \n",
       "4207     0     0     0     0     0     0  \n",
       "4208     0     0     0     0     0     0  \n",
       "\n",
       "[4209 rows x 366 columns]"
      ]
     },
     "execution_count": 19,
     "metadata": {},
     "output_type": "execute_result"
    }
   ],
   "source": [
    "df_train.loc[:, (df_train !=0).any(axis=0)]"
   ]
  },
  {
   "cell_type": "code",
   "execution_count": 20,
   "metadata": {},
   "outputs": [
    {
     "data": {
      "text/plain": [
       "ID      True\n",
       "y       True\n",
       "X0      True\n",
       "X1      True\n",
       "X2      True\n",
       "        ... \n",
       "X380    True\n",
       "X382    True\n",
       "X383    True\n",
       "X384    True\n",
       "X385    True\n",
       "Length: 378, dtype: bool"
      ]
     },
     "execution_count": 20,
     "metadata": {},
     "output_type": "execute_result"
    }
   ],
   "source": [
    "(df_train !=0).any(axis=0)"
   ]
  },
  {
   "cell_type": "code",
   "execution_count": 21,
   "metadata": {},
   "outputs": [
    {
     "data": {
      "text/plain": [
       "ID      False\n",
       "y       False\n",
       "X0      False\n",
       "X1      False\n",
       "X2      False\n",
       "        ...  \n",
       "X380    False\n",
       "X382    False\n",
       "X383    False\n",
       "X384    False\n",
       "X385    False\n",
       "Length: 378, dtype: bool"
      ]
     },
     "execution_count": 21,
     "metadata": {},
     "output_type": "execute_result"
    }
   ],
   "source": [
    "#Checking for null values in each column\n",
    "#There is no null values in either training or testing datasets\n",
    "\n",
    "df_train.isna().any()"
   ]
  },
  {
   "cell_type": "code",
   "execution_count": 22,
   "metadata": {},
   "outputs": [
    {
     "data": {
      "text/plain": [
       "False"
      ]
     },
     "execution_count": 22,
     "metadata": {},
     "output_type": "execute_result"
    }
   ],
   "source": [
    "#Checking for null values in each column\n",
    "#There is no null values in either training or testing datasets\n",
    "\n",
    "df_train.isna().any().any()"
   ]
  },
  {
   "cell_type": "code",
   "execution_count": 23,
   "metadata": {},
   "outputs": [
    {
     "data": {
      "text/plain": [
       "ID      False\n",
       "X0      False\n",
       "X1      False\n",
       "X2      False\n",
       "X3      False\n",
       "        ...  \n",
       "X380    False\n",
       "X382    False\n",
       "X383    False\n",
       "X384    False\n",
       "X385    False\n",
       "Length: 377, dtype: bool"
      ]
     },
     "execution_count": 23,
     "metadata": {},
     "output_type": "execute_result"
    }
   ],
   "source": [
    "df_test.isna().any()"
   ]
  },
  {
   "cell_type": "code",
   "execution_count": 24,
   "metadata": {},
   "outputs": [
    {
     "data": {
      "text/plain": [
       "False"
      ]
     },
     "execution_count": 24,
     "metadata": {},
     "output_type": "execute_result"
    }
   ],
   "source": [
    "df_test.isna().any().any()"
   ]
  },
  {
   "cell_type": "code",
   "execution_count": null,
   "metadata": {},
   "outputs": [],
   "source": [
    "#Distribution of y with category variables - Univariate, histogram, outliers\n",
    "#Basic Statistics"
   ]
  },
  {
   "cell_type": "code",
   "execution_count": 27,
   "metadata": {},
   "outputs": [
    {
     "name": "stdout",
     "output_type": "stream",
     "text": [
      "count    4209.000000\n",
      "mean      100.669318\n",
      "std        12.679381\n",
      "min        72.110000\n",
      "25%        90.820000\n",
      "50%        99.150000\n",
      "75%       109.010000\n",
      "max       265.320000\n",
      "Name: y, dtype: float64\n"
     ]
    }
   ],
   "source": [
    "#Lets get an overview and some statistics of a datasets especially on the variable y.\n",
    "print(df_train['y'].describe())"
   ]
  },
  {
   "cell_type": "code",
   "execution_count": null,
   "metadata": {},
   "outputs": [],
   "source": [
    "#OBSERVATIONS:\n",
    "Looking at the summary statistics based on y variable, 75% of the cars are tested less than 109s, 50% cars less than 100s.\n",
    "Only 25% of the cars takes more testing time between 109s and 265s.\n",
    "The minimum testing time is 72s, maximum testing time is 265s, mean with an average of 100s, deviation of 12."
   ]
  },
  {
   "cell_type": "code",
   "execution_count": 29,
   "metadata": {},
   "outputs": [],
   "source": [
    "import matplotlib.pyplot as plt\n",
    "%matplotlib inline"
   ]
  },
  {
   "cell_type": "code",
   "execution_count": 30,
   "metadata": {},
   "outputs": [
    {
     "data": {
      "text/plain": [
       "Text(0.5, 0, 'testing time in secs')"
      ]
     },
     "execution_count": 30,
     "metadata": {},
     "output_type": "execute_result"
    },
    {
     "data": {
      "image/png": "[encoded data removed]",
      "text/plain": [
       "<Figure size 864x432 with 1 Axes>"
      ]
     },
     "metadata": {
      "needs_background": "light"
     },
     "output_type": "display_data"
    }
   ],
   "source": [
    "#Distribution plot. We draw distribution plot as sns. \n",
    "import seaborn as sns\n",
    "plt.figure(figsize=(12,6))\n",
    "plt.hist(df_train['y'], bins=50, color='b')\n",
    "plt.xlabel('testing time in secs')"
   ]
  },
  {
   "cell_type": "code",
   "execution_count": 31,
   "metadata": {},
   "outputs": [
    {
     "data": {
      "text/plain": [
       "Text(0.5, 0, 'y value')"
      ]
     },
     "execution_count": 31,
     "metadata": {},
     "output_type": "execute_result"
    },
    {
     "data": {
      "image/png": "[encoded data removed]",
      "text/plain": [
       "<Figure size 864x576 with 1 Axes>"
      ]
     },
     "metadata": {
      "needs_background": "light"
     },
     "output_type": "display_data"
    }
   ],
   "source": [
    "plt.figure(figsize=(12,8))\n",
    "\n",
    "sns.distplot(df_train.y.values, bins=50, kde=True)\n",
    "plt.xlabel('y value', fontsize=12)"
   ]
  },
  {
   "cell_type": "code",
   "execution_count": 32,
   "metadata": {},
   "outputs": [
    {
     "data": {
      "text/plain": [
       "[<matplotlib.lines.Line2D at 0x220ab9d4880>]"
      ]
     },
     "execution_count": 32,
     "metadata": {},
     "output_type": "execute_result"
    },
    {
     "data": {
      "image/png": "[encoded data removed]",
      "text/plain": [
       "<Figure size 1080x432 with 1 Axes>"
      ]
     },
     "metadata": {
      "needs_background": "light"
     },
     "output_type": "display_data"
    }
   ],
   "source": [
    "#Simple plotting y visualize some outlier. One of the cars is taking 270s for testing(which is an outlier).\n",
    "#The majority of the cars are taking around 75 to 150 seconds for testing.\n",
    "plt.figure(figsize=(15,6))\n",
    "plt.plot(df_train['y'])"
   ]
  },
  {
   "cell_type": "code",
   "execution_count": null,
   "metadata": {},
   "outputs": [],
   "source": [
    "#CDF(cummulative distribution function) and PDF(probability density function):"
   ]
  },
  {
   "cell_type": "code",
   "execution_count": 33,
   "metadata": {},
   "outputs": [
    {
     "name": "stdout",
     "output_type": "stream",
     "text": [
      "pdf= [2.79401283e-01 5.24590164e-01 1.76764077e-01 1.52055120e-02\n",
      " 3.56379187e-03 2.37586125e-04 0.00000000e+00 0.00000000e+00\n",
      " 0.00000000e+00 2.37586125e-04]\n",
      "bin_edges= [ 72.11   91.431 110.752 130.073 149.394 168.715 188.036 207.357 226.678\n",
      " 245.999 265.32 ]\n",
      "cdf= [0.27940128 0.80399145 0.98075552 0.99596104 0.99952483 0.99976241\n",
      " 0.99976241 0.99976241 0.99976241 1.        ]\n"
     ]
    },
    {
     "data": {
      "text/plain": [
       "[<matplotlib.lines.Line2D at 0x220ab9477f0>]"
      ]
     },
     "execution_count": 33,
     "metadata": {},
     "output_type": "execute_result"
    },
    {
     "data": {
      "image/png": "[encoded data removed]",
      "text/plain": [
       "<Figure size 432x288 with 1 Axes>"
      ]
     },
     "metadata": {
      "needs_background": "light"
     },
     "output_type": "display_data"
    }
   ],
   "source": [
    "#pdf and cdf\n",
    "\n",
    "counts, bin_edges = np.histogram(df_train['y'], bins=10, density=True)\n",
    "plt.xlabel('y')\n",
    "pdf = counts/(sum(counts))\n",
    "print(\"pdf=\",pdf);\n",
    "print(\"bin_edges=\",bin_edges);\n",
    "cdf = np.cumsum(pdf)\n",
    "print(\"cdf=\",cdf)\n",
    "plt.plot(bin_edges[1:],pdf);\n",
    "plt.plot(bin_edges[1:], cdf)"
   ]
  },
  {
   "cell_type": "code",
   "execution_count": null,
   "metadata": {},
   "outputs": [],
   "source": [
    "#we draw this using univariable “y”, and drawn cummulative distribution function and probability density funtion.\n",
    "#if we draw a straight line from y value at 150s, then it intersects the curve Cummulative distribution funtion(yellow)\n",
    "#at value approximately equal to 0.98 i.e there are 98% cars from cummulative sum of 50 to 150 seconds"
   ]
  },
  {
   "cell_type": "code",
   "execution_count": 34,
   "metadata": {},
   "outputs": [
    {
     "data": {
      "image/png": "[encoded data removed]",
      "text/plain": [
       "<Figure size 432x288 with 1 Axes>"
      ]
     },
     "metadata": {
      "needs_background": "light"
     },
     "output_type": "display_data"
    },
    {
     "data": {
      "text/plain": [
       "<Figure size 1080x648 with 0 Axes>"
      ]
     },
     "metadata": {},
     "output_type": "display_data"
    }
   ],
   "source": [
    "##boxplot it view some statistical values. The minimum value is around 73 seconds, \n",
    "#the median is 100s(most cars test around this time). The maximun is approximately 140s.\n",
    "#we have one outlier at above 260s.\n",
    "sns.boxplot(y='y', data=df_train)\n",
    "plt.figure(figsize=(15,9))\n",
    "plt.show()"
   ]
  },
  {
   "cell_type": "code",
   "execution_count": 35,
   "metadata": {},
   "outputs": [
    {
     "data": {
      "image/png": "[encoded data removed]",
      "text/plain": [
       "<Figure size 432x288 with 1 Axes>"
      ]
     },
     "metadata": {
      "needs_background": "light"
     },
     "output_type": "display_data"
    }
   ],
   "source": [
    "##Violin plot gives pdf(probabilty density plot) along with boxplot in it.\n",
    "#We can observe that most of the cars are tested around 73s to 150s looking at the blue shade. \n",
    "#After that we can expect some extreme values and probably some outliers.\n",
    "sns.violinplot(y='y', data=df_train, size=8)\n",
    "plt.show()"
   ]
  },
  {
   "cell_type": "code",
   "execution_count": 36,
   "metadata": {},
   "outputs": [],
   "source": [
    "#Compare the values in the columns between the train and test dataset"
   ]
  },
  {
   "cell_type": "code",
   "execution_count": 37,
   "metadata": {},
   "outputs": [],
   "source": [
    "numerics = ['int16','int32','int64','float16','float32','float64']\n",
    "objects = ['object']"
   ]
  },
  {
   "cell_type": "code",
   "execution_count": 38,
   "metadata": {},
   "outputs": [],
   "source": [
    "df_train_num = df_train.select_dtypes(include=numerics)\n",
    "df_train_cat = df_train.select_dtypes(include=objects)"
   ]
  },
  {
   "cell_type": "code",
   "execution_count": 39,
   "metadata": {},
   "outputs": [
    {
     "name": "stdout",
     "output_type": "stream",
     "text": [
      "(4209, 370) (4209, 8)\n",
      "*****************************************************************\n",
      "Index(['X0', 'X1', 'X2', 'X3', 'X4', 'X5', 'X6', 'X8'], dtype='object')\n",
      "*****************************************************************\n",
      "Index(['ID', 'y', 'X10', 'X11', 'X12', 'X13', 'X14', 'X15', 'X16', 'X17',\n",
      "       ...\n",
      "       'X375', 'X376', 'X377', 'X378', 'X379', 'X380', 'X382', 'X383', 'X384',\n",
      "       'X385'],\n",
      "      dtype='object', length=370)\n"
     ]
    }
   ],
   "source": [
    "print(df_train_num.shape, df_train_cat.shape)\n",
    "\n",
    "print('*****************************************************************')\n",
    "print(df_train_cat.columns)\n",
    "print('*****************************************************************')\n",
    "print(df_train_num.columns)"
   ]
  },
  {
   "cell_type": "code",
   "execution_count": null,
   "metadata": {},
   "outputs": [],
   "source": [
    "# Analyse col type"
   ]
  },
  {
   "cell_type": "code",
   "execution_count": 40,
   "metadata": {},
   "outputs": [],
   "source": [
    "df_test_num = df_test.select_dtypes(include=numerics)\n",
    "df_test_cat = df_test.select_dtypes(include=objects)"
   ]
  },
  {
   "cell_type": "code",
   "execution_count": 41,
   "metadata": {},
   "outputs": [
    {
     "name": "stdout",
     "output_type": "stream",
     "text": [
      "(4209, 369) (4209, 8)\n",
      "******************************************************************\n",
      "Index(['X0', 'X1', 'X2', 'X3', 'X4', 'X5', 'X6', 'X8'], dtype='object')\n",
      "******************************************************************\n",
      "Index(['ID', 'X10', 'X11', 'X12', 'X13', 'X14', 'X15', 'X16', 'X17', 'X18',\n",
      "       ...\n",
      "       'X375', 'X376', 'X377', 'X378', 'X379', 'X380', 'X382', 'X383', 'X384',\n",
      "       'X385'],\n",
      "      dtype='object', length=369)\n"
     ]
    }
   ],
   "source": [
    "print(df_test_num.shape, df_test_cat.shape)\n",
    "\n",
    "print('******************************************************************')\n",
    "print(df_test_cat.columns)\n",
    "print('******************************************************************')\n",
    "print(df_test_num.columns)"
   ]
  },
  {
   "cell_type": "code",
   "execution_count": null,
   "metadata": {},
   "outputs": [],
   "source": [
    "#Looking into each categorical feature - train"
   ]
  },
  {
   "cell_type": "code",
   "execution_count": 42,
   "metadata": {},
   "outputs": [
    {
     "name": "stdout",
     "output_type": "stream",
     "text": [
      "The unique values in X0 are: 47\n",
      "['k' 'az' 't' 'al' 'o' 'w' 'j' 'h' 's' 'n' 'ay' 'f' 'x' 'y' 'aj' 'ak' 'am'\n",
      " 'z' 'q' 'at' 'ap' 'v' 'af' 'a' 'e' 'ai' 'd' 'aq' 'c' 'aa' 'ba' 'as' 'i'\n",
      " 'r' 'b' 'ax' 'bc' 'u' 'ad' 'au' 'm' 'l' 'aw' 'ao' 'ac' 'g' 'ab']\n",
      "*********************************************\n",
      "The unique values in X1 are: 27\n",
      "['v' 't' 'w' 'b' 'r' 'l' 's' 'aa' 'c' 'a' 'e' 'h' 'z' 'j' 'o' 'u' 'p' 'n'\n",
      " 'i' 'y' 'd' 'f' 'm' 'k' 'g' 'q' 'ab']\n",
      "*********************************************\n",
      "The unique values in X2 are: 44\n",
      "['at' 'av' 'n' 'e' 'as' 'aq' 'r' 'ai' 'ak' 'm' 'a' 'k' 'ae' 's' 'f' 'd'\n",
      " 'ag' 'ay' 'ac' 'ap' 'g' 'i' 'aw' 'y' 'b' 'ao' 'al' 'h' 'x' 'au' 't' 'an'\n",
      " 'z' 'ah' 'p' 'am' 'j' 'q' 'af' 'l' 'aa' 'c' 'o' 'ar']\n",
      "*********************************************\n",
      "The unique values in X3 are: 7\n",
      "['a' 'e' 'c' 'f' 'd' 'b' 'g']\n",
      "*********************************************\n",
      "The unique values in X4 are: 4\n",
      "['d' 'b' 'c' 'a']\n",
      "*********************************************\n",
      "The unique values in X5 are: 29\n",
      "['u' 'y' 'x' 'h' 'g' 'f' 'j' 'i' 'd' 'c' 'af' 'ag' 'ab' 'ac' 'ad' 'ae'\n",
      " 'ah' 'l' 'k' 'n' 'm' 'p' 'q' 's' 'r' 'v' 'w' 'o' 'aa']\n",
      "*********************************************\n",
      "The unique values in X6 are: 12\n",
      "['j' 'l' 'd' 'h' 'i' 'a' 'g' 'c' 'k' 'e' 'f' 'b']\n",
      "*********************************************\n",
      "The unique values in X8 are: 25\n",
      "['o' 'x' 'e' 'n' 's' 'a' 'h' 'p' 'm' 'k' 'd' 'i' 'v' 'j' 'b' 'q' 'w' 'g'\n",
      " 'y' 'l' 'f' 'u' 'r' 't' 'c']\n",
      "*********************************************\n"
     ]
    }
   ],
   "source": [
    "for col_name in df_train_cat.columns:\n",
    "    print('The unique values in '+col_name+' are:', df_train_cat[col_name].nunique())\n",
    "    print(df_train_cat[col_name].unique())\n",
    "    print('*********************************************')"
   ]
  },
  {
   "cell_type": "code",
   "execution_count": null,
   "metadata": {},
   "outputs": [],
   "source": [
    "#Looking into each categorical feature - test"
   ]
  },
  {
   "cell_type": "code",
   "execution_count": 44,
   "metadata": {},
   "outputs": [
    {
     "name": "stdout",
     "output_type": "stream",
     "text": [
      "The unique values in X0 are: 49\n",
      "['az' 't' 'w' 'y' 'x' 'f' 'ap' 'o' 'ay' 'al' 'h' 'z' 'aj' 'd' 'v' 'ak'\n",
      " 'ba' 'n' 'j' 's' 'af' 'ax' 'at' 'aq' 'av' 'm' 'k' 'a' 'e' 'ai' 'i' 'ag'\n",
      " 'b' 'am' 'aw' 'as' 'r' 'ao' 'u' 'l' 'c' 'ad' 'au' 'bc' 'g' 'an' 'ae' 'p'\n",
      " 'bb']\n",
      "*********************************************\n",
      "The unique values in X1 are: 27\n",
      "['v' 'b' 'l' 's' 'aa' 'r' 'a' 'i' 'p' 'c' 'o' 'm' 'z' 'e' 'h' 'w' 'g' 'k'\n",
      " 'y' 't' 'u' 'd' 'j' 'q' 'n' 'f' 'ab']\n",
      "*********************************************\n",
      "The unique values in X2 are: 45\n",
      "['n' 'ai' 'as' 'ae' 's' 'b' 'e' 'ak' 'm' 'a' 'aq' 'ag' 'r' 'k' 'aj' 'ay'\n",
      " 'ao' 'an' 'ac' 'af' 'ax' 'h' 'i' 'f' 'ap' 'p' 'au' 't' 'z' 'y' 'aw' 'd'\n",
      " 'at' 'g' 'am' 'j' 'x' 'ab' 'w' 'q' 'ah' 'ad' 'al' 'av' 'u']\n",
      "*********************************************\n",
      "The unique values in X3 are: 7\n",
      "['f' 'a' 'c' 'e' 'd' 'g' 'b']\n",
      "*********************************************\n",
      "The unique values in X4 are: 4\n",
      "['d' 'b' 'a' 'c']\n",
      "*********************************************\n",
      "The unique values in X5 are: 32\n",
      "['t' 'b' 'a' 'z' 'y' 'x' 'h' 'g' 'f' 'j' 'i' 'd' 'c' 'af' 'ag' 'ab' 'ac'\n",
      " 'ad' 'ae' 'ah' 'l' 'k' 'n' 'm' 'p' 'q' 's' 'r' 'v' 'w' 'o' 'aa']\n",
      "*********************************************\n",
      "The unique values in X6 are: 12\n",
      "['a' 'g' 'j' 'l' 'i' 'd' 'f' 'h' 'c' 'k' 'e' 'b']\n",
      "*********************************************\n",
      "The unique values in X8 are: 25\n",
      "['w' 'y' 'j' 'n' 'm' 's' 'a' 'v' 'r' 'o' 't' 'h' 'c' 'k' 'p' 'u' 'd' 'g'\n",
      " 'b' 'q' 'e' 'l' 'f' 'i' 'x']\n",
      "*********************************************\n"
     ]
    }
   ],
   "source": [
    "for col_name in df_test_cat.columns:\n",
    "    print('The unique values in '+col_name+' are:', df_test_cat[col_name].nunique())\n",
    "    print(df_test_cat[col_name].unique())\n",
    "    print('*********************************************')"
   ]
  },
  {
   "cell_type": "code",
   "execution_count": null,
   "metadata": {},
   "outputs": [],
   "source": [
    "#Observations:\n",
    "It appears that some of the categorical value conts in the training and testing are not the same. Some of the categorical\n",
    "values in training set are not in the testing set. This would be a problem in running the model.\n",
    "The unique values in Xo are: 47(merc_train)\n",
    "The unique values in Xo are: 47(merc_test)\n",
    "The unique values in X1 are: 44(merc_train)\n",
    "The unique values in X1 are: 45(merc_test)\n",
    "    The unique values in X1 are: 45(merc_test)\n",
    "The unique values in X5 are: 29(merc_train)\n",
    "The unique values in X5 are: 32(merc_test)\n",
    "The distribution of the test time for each of the category variable\n",
    "    "
   ]
  },
  {
   "cell_type": "code",
   "execution_count": 46,
   "metadata": {},
   "outputs": [
    {
     "data": {
      "image/png": "[encoded data removed]",
      "text/plain": [
       "<Figure size 1152x432 with 1 Axes>"
      ]
     },
     "metadata": {
      "needs_background": "light"
     },
     "output_type": "display_data"
    },
    {
     "data": {
      "image/png": "[encoded data removed]",
      "text/plain": [
       "<Figure size 1152x432 with 1 Axes>"
      ]
     },
     "metadata": {
      "needs_background": "light"
     },
     "output_type": "display_data"
    },
    {
     "data": {
      "image/png": "[encoded data removed]",
      "text/plain": [
       "<Figure size 1152x432 with 1 Axes>"
      ]
     },
     "metadata": {
      "needs_background": "light"
     },
     "output_type": "display_data"
    },
    {
     "data": {
      "image/png": "[encoded data removed]",
      "text/plain": [
       "<Figure size 1152x432 with 1 Axes>"
      ]
     },
     "metadata": {
      "needs_background": "light"
     },
     "output_type": "display_data"
    },
    {
     "data": {
      "image/png": "[encoded data removed]",
      "text/plain": [
       "<Figure size 1152x432 with 1 Axes>"
      ]
     },
     "metadata": {
      "needs_background": "light"
     },
     "output_type": "display_data"
    },
    {
     "data": {
      "image/png": "[encoded data removed]",
      "text/plain": [
       "<Figure size 1152x432 with 1 Axes>"
      ]
     },
     "metadata": {
      "needs_background": "light"
     },
     "output_type": "display_data"
    },
    {
     "data": {
      "image/png": "[encoded data removed]",
      "text/plain": [
       "<Figure size 1152x432 with 1 Axes>"
      ]
     },
     "metadata": {
      "needs_background": "light"
     },
     "output_type": "display_data"
    },
    {
     "data": {
      "image/png": "[encoded data removed]",
      "text/plain": [
       "<Figure size 1152x432 with 1 Axes>"
      ]
     },
     "metadata": {
      "needs_background": "light"
     },
     "output_type": "display_data"
    }
   ],
   "source": [
    "#We look at the change of y fro each of this category index X0, X2, X3...\n",
    "#We do this to analyze the outliers and drop them to make a match of our train and test datasets\n",
    "cols=['X0','X1','X2','X3','X4','X5','X6','X8']\n",
    "for col in cols:\n",
    "    \n",
    "    plt.figure(figsize=(16,6))\n",
    "    \n",
    "    sns.boxplot(x=col, y='y', data=df_train)\n",
    "    \n",
    "    plt.xlabel(col, fontsize=10)\n",
    "    plt.title('Distibution of y variable')\n",
    "    plt.ylabel('y', fontsize=10)\n",
    "    plt.xticks(fontsize=8)\n",
    "    plt.yticks(fontsize=8) "
   ]
  },
  {
   "cell_type": "code",
   "execution_count": null,
   "metadata": {},
   "outputs": [],
   "source": [
    "# outlyier removal"
   ]
  },
  {
   "cell_type": "code",
   "execution_count": 47,
   "metadata": {},
   "outputs": [
    {
     "data": {
      "text/plain": [
       "<matplotlib.axes._subplots.AxesSubplot at 0x220b01eb550>"
      ]
     },
     "execution_count": 47,
     "metadata": {},
     "output_type": "execute_result"
    },
    {
     "data": {
      "image/png": "[encoded data removed]",
      "text/plain": [
       "<Figure size 864x432 with 1 Axes>"
      ]
     },
     "metadata": {
      "needs_background": "light"
     },
     "output_type": "display_data"
    }
   ],
   "source": [
    "#As we observed the boxplot with categorical distribution of y. There might be some outliers because of small single dots above\n",
    "#150.\n",
    "\n",
    "plt.figure(figsize=(12,6))\n",
    "sns.violinplot(df_train['y'].values)"
   ]
  },
  {
   "cell_type": "code",
   "execution_count": 48,
   "metadata": {},
   "outputs": [
    {
     "data": {
      "image/png": "[encoded data removed]",
      "text/plain": [
       "<Figure size 1152x432 with 1 Axes>"
      ]
     },
     "metadata": {
      "needs_background": "light"
     },
     "output_type": "display_data"
    },
    {
     "data": {
      "image/png": "[encoded data removed]",
      "text/plain": [
       "<Figure size 1152x432 with 1 Axes>"
      ]
     },
     "metadata": {
      "needs_background": "light"
     },
     "output_type": "display_data"
    },
    {
     "data": {
      "image/png": "[encoded data removed]",
      "text/plain": [
       "<Figure size 1152x432 with 1 Axes>"
      ]
     },
     "metadata": {
      "needs_background": "light"
     },
     "output_type": "display_data"
    },
    {
     "data": {
      "image/png": "[encoded data removed]",
      "text/plain": [
       "<Figure size 1152x432 with 1 Axes>"
      ]
     },
     "metadata": {
      "needs_background": "light"
     },
     "output_type": "display_data"
    },
    {
     "data": {
      "image/png": "[encoded data removed]",
      "text/plain": [
       "<Figure size 1152x432 with 1 Axes>"
      ]
     },
     "metadata": {
      "needs_background": "light"
     },
     "output_type": "display_data"
    },
    {
     "data": {
      "image/png": "[encoded data removed]",
      "text/plain": [
       "<Figure size 1152x432 with 1 Axes>"
      ]
     },
     "metadata": {
      "needs_background": "light"
     },
     "output_type": "display_data"
    },
    {
     "data": {
      "image/png": "[encoded data removed]",
      "text/plain": [
       "<Figure size 1152x432 with 1 Axes>"
      ]
     },
     "metadata": {
      "needs_background": "light"
     },
     "output_type": "display_data"
    },
    {
     "data": {
      "image/png": "[encoded data removed]",
      "text/plain": [
       "<Figure size 1152x432 with 1 Axes>"
      ]
     },
     "metadata": {
      "needs_background": "light"
     },
     "output_type": "display_data"
    }
   ],
   "source": [
    "cols=['X0','X1','X2','X3','X4','X5','X6','X8']\n",
    "\n",
    "for col in cols:\n",
    "    plt.figure(figsize=(16,6))\n",
    "    sns.violinplot(x=col, y='y', data=df_train, height=15)\n",
    "    plt.show()"
   ]
  },
  {
   "cell_type": "code",
   "execution_count": null,
   "metadata": {},
   "outputs": [],
   "source": [
    "#Detecting outliers using z score"
   ]
  },
  {
   "cell_type": "code",
   "execution_count": 49,
   "metadata": {},
   "outputs": [],
   "source": [
    "from numpy import percentile"
   ]
  },
  {
   "cell_type": "code",
   "execution_count": 50,
   "metadata": {},
   "outputs": [],
   "source": [
    "# calculate interquartile range\n",
    "q25, q75 = percentile(df_train.loc[:,'y'], 25), percentile(df_train.loc[:,'y'], 75)\n",
    "iqr = q75 - q25"
   ]
  },
  {
   "cell_type": "code",
   "execution_count": 51,
   "metadata": {},
   "outputs": [
    {
     "name": "stdout",
     "output_type": "stream",
     "text": [
      "90.82 109.01\n"
     ]
    }
   ],
   "source": [
    "print(q25,q75)"
   ]
  },
  {
   "cell_type": "code",
   "execution_count": 52,
   "metadata": {},
   "outputs": [
    {
     "data": {
      "text/plain": [
       "18.190000000000012"
      ]
     },
     "execution_count": 52,
     "metadata": {},
     "output_type": "execute_result"
    }
   ],
   "source": [
    "iqr"
   ]
  },
  {
   "cell_type": "code",
   "execution_count": 53,
   "metadata": {},
   "outputs": [],
   "source": [
    "# calculate the outlier cutoff\n",
    "cut_off = iqr * 1.5\n",
    "lower, upper = q25 - cut_off, q75 + cut_off"
   ]
  },
  {
   "cell_type": "code",
   "execution_count": 54,
   "metadata": {},
   "outputs": [
    {
     "name": "stdout",
     "output_type": "stream",
     "text": [
      "63.534999999999975 136.29500000000002\n"
     ]
    }
   ],
   "source": [
    "print(lower,upper)"
   ]
  },
  {
   "cell_type": "code",
   "execution_count": 55,
   "metadata": {},
   "outputs": [],
   "source": [
    "# identify outliers\n",
    "outliers = [x for x in df_train.loc[:,'y'] if x < lower or x > upper]"
   ]
  },
  {
   "cell_type": "code",
   "execution_count": 56,
   "metadata": {},
   "outputs": [
    {
     "name": "stdout",
     "output_type": "stream",
     "text": [
      "Identified outliers: 50\n"
     ]
    }
   ],
   "source": [
    "print('Identified outliers: %d' % len(outliers))"
   ]
  },
  {
   "cell_type": "code",
   "execution_count": 57,
   "metadata": {},
   "outputs": [],
   "source": [
    "outliers_removed = [x for x in df_train.loc[:,'y'] if x >= lower or x <= upper]"
   ]
  },
  {
   "cell_type": "code",
   "execution_count": 58,
   "metadata": {},
   "outputs": [
    {
     "data": {
      "text/plain": [
       "[130.81,\n",
       " 88.53,\n",
       " 76.26,\n",
       " 80.62,\n",
       " 78.02,\n",
       " 92.93,\n",
       " 128.76,\n",
       " 91.91,\n",
       " 108.67,\n",
       " 126.99,\n",
       " 102.09,\n",
       " 98.12,\n",
       " 82.62,\n",
       " 94.12,\n",
       " 99.15,\n",
       " 93.64,\n",
       " 106.1,\n",
       " 114.13,\n",
       " 89.81,\n",
       " 90.81,\n",
       " 90.56,\n",
       " 94.57,\n",
       " 108.14,\n",
       " 120.77,\n",
       " 84.84,\n",
       " 93.59,\n",
       " 104.07,\n",
       " 89.37,\n",
       " 90.08,\n",
       " 128.19,\n",
       " 76.01,\n",
       " 107.86,\n",
       " 106.87,\n",
       " 104.85,\n",
       " 114.78,\n",
       " 91.56,\n",
       " 98.16,\n",
       " 117.31,\n",
       " 79.0,\n",
       " 110.76,\n",
       " 101.44,\n",
       " 91.98,\n",
       " 98.08,\n",
       " 139.2,\n",
       " 85.44,\n",
       " 110.52,\n",
       " 91.44,\n",
       " 91.52,\n",
       " 91.59,\n",
       " 108.0,\n",
       " 116.59,\n",
       " 93.81,\n",
       " 119.44,\n",
       " 91.57,\n",
       " 97.24,\n",
       " 90.11,\n",
       " 94.83,\n",
       " 108.42,\n",
       " 95.57,\n",
       " 88.82,\n",
       " 104.78,\n",
       " 87.75,\n",
       " 93.27,\n",
       " 111.74,\n",
       " 109.76,\n",
       " 84.15,\n",
       " 93.67,\n",
       " 107.72,\n",
       " 90.87,\n",
       " 118.24,\n",
       " 89.91,\n",
       " 113.4,\n",
       " 118.53,\n",
       " 79.03,\n",
       " 92.47,\n",
       " 100.98,\n",
       " 114.76,\n",
       " 111.15,\n",
       " 108.57,\n",
       " 93.03,\n",
       " 93.12,\n",
       " 113.31,\n",
       " 94.27,\n",
       " 102.31,\n",
       " 101.59,\n",
       " 110.37,\n",
       " 98.84,\n",
       " 101.98,\n",
       " 96.96,\n",
       " 90.8,\n",
       " 110.98,\n",
       " 73.7,\n",
       " 111.42,\n",
       " 98.91,\n",
       " 106.46,\n",
       " 115.43,\n",
       " 91.94,\n",
       " 108.37,\n",
       " 127.66,\n",
       " 93.62,\n",
       " 106.67,\n",
       " 96.06,\n",
       " 92.5,\n",
       " 92.35,\n",
       " 102.97,\n",
       " 109.43,\n",
       " 106.31,\n",
       " 87.15,\n",
       " 107.83,\n",
       " 112.75,\n",
       " 89.49,\n",
       " 126.17,\n",
       " 100.38,\n",
       " 95.42,\n",
       " 112.39,\n",
       " 92.7,\n",
       " 88.78,\n",
       " 105.15,\n",
       " 118.74,\n",
       " 116.61,\n",
       " 90.99,\n",
       " 113.28,\n",
       " 101.43,\n",
       " 113.69,\n",
       " 87.09,\n",
       " 116.73,\n",
       " 89.02,\n",
       " 102.52,\n",
       " 98.68,\n",
       " 91.24,\n",
       " 96.88,\n",
       " 90.54,\n",
       " 110.96,\n",
       " 88.92,\n",
       " 92.36,\n",
       " 102.46,\n",
       " 89.23,\n",
       " 110.02,\n",
       " 96.78,\n",
       " 101.66,\n",
       " 87.26,\n",
       " 111.55,\n",
       " 88.1,\n",
       " 101.07,\n",
       " 96.41,\n",
       " 92.74,\n",
       " 112.44,\n",
       " 105.74,\n",
       " 89.1,\n",
       " 108.97,\n",
       " 87.65,\n",
       " 116.08,\n",
       " 108.84,\n",
       " 94.75,\n",
       " 94.92,\n",
       " 106.44,\n",
       " 108.87,\n",
       " 90.68,\n",
       " 104.08,\n",
       " 109.69,\n",
       " 90.27,\n",
       " 105.77,\n",
       " 94.17,\n",
       " 97.33,\n",
       " 90.33,\n",
       " 105.87,\n",
       " 98.25,\n",
       " 106.14,\n",
       " 90.17,\n",
       " 110.91,\n",
       " 108.25,\n",
       " 98.16,\n",
       " 113.17,\n",
       " 90.03,\n",
       " 100.85,\n",
       " 89.48,\n",
       " 116.65,\n",
       " 99.06,\n",
       " 94.02,\n",
       " 110.55,\n",
       " 94.8,\n",
       " 105.47,\n",
       " 91.5,\n",
       " 87.44,\n",
       " 79.09,\n",
       " 89.67,\n",
       " 121.15,\n",
       " 97.81,\n",
       " 99.08,\n",
       " 87.79,\n",
       " 119.76,\n",
       " 90.01,\n",
       " 98.96,\n",
       " 90.54,\n",
       " 108.28,\n",
       " 88.1,\n",
       " 116.2,\n",
       " 90.88,\n",
       " 87.65,\n",
       " 94.61,\n",
       " 96.16,\n",
       " 117.03,\n",
       " 91.23,\n",
       " 136.41,\n",
       " 91.02,\n",
       " 102.89,\n",
       " 110.53,\n",
       " 102.6,\n",
       " 77.36,\n",
       " 113.11,\n",
       " 88.39,\n",
       " 108.85,\n",
       " 90.79,\n",
       " 98.28,\n",
       " 109.11,\n",
       " 88.82,\n",
       " 146.83,\n",
       " 102.58,\n",
       " 115.67,\n",
       " 90.54,\n",
       " 87.66,\n",
       " 115.25,\n",
       " 106.87,\n",
       " 128.78,\n",
       " 89.86,\n",
       " 132.1,\n",
       " 90.73,\n",
       " 134.43,\n",
       " 104.16,\n",
       " 97.42,\n",
       " 99.05,\n",
       " 91.16,\n",
       " 103.98,\n",
       " 100.29,\n",
       " 99.35,\n",
       " 106.19,\n",
       " 109.3,\n",
       " 108.46,\n",
       " 118.45,\n",
       " 101.26,\n",
       " 116.5,\n",
       " 88.21,\n",
       " 114.46,\n",
       " 96.97,\n",
       " 97.91,\n",
       " 108.43,\n",
       " 90.38,\n",
       " 90.19,\n",
       " 122.69,\n",
       " 90.47,\n",
       " 110.56,\n",
       " 91.01,\n",
       " 122.24,\n",
       " 150.43,\n",
       " 90.82,\n",
       " 100.98,\n",
       " 89.85,\n",
       " 107.9,\n",
       " 90.92,\n",
       " 109.1,\n",
       " 112.38,\n",
       " 88.42,\n",
       " 87.58,\n",
       " 106.4,\n",
       " 89.81,\n",
       " 91.22,\n",
       " 76.64,\n",
       " 111.75,\n",
       " 95.04,\n",
       " 111.31,\n",
       " 92.23,\n",
       " 111.77,\n",
       " 121.19,\n",
       " 99.56,\n",
       " 89.4,\n",
       " 90.93,\n",
       " 112.54,\n",
       " 99.05,\n",
       " 108.75,\n",
       " 104.56,\n",
       " 92.94,\n",
       " 89.94,\n",
       " 102.06,\n",
       " 108.31,\n",
       " 110.21,\n",
       " 88.45,\n",
       " 87.05,\n",
       " 89.59,\n",
       " 109.94,\n",
       " 95.99,\n",
       " 119.51,\n",
       " 105.23,\n",
       " 104.32,\n",
       " 91.26,\n",
       " 76.59,\n",
       " 87.25,\n",
       " 90.52,\n",
       " 92.62,\n",
       " 114.34,\n",
       " 108.43,\n",
       " 117.52,\n",
       " 94.95,\n",
       " 90.67,\n",
       " 90.39,\n",
       " 89.03,\n",
       " 107.67,\n",
       " 91.82,\n",
       " 111.08,\n",
       " 89.44,\n",
       " 99.48,\n",
       " 94.85,\n",
       " 99.82,\n",
       " 91.65,\n",
       " 89.41,\n",
       " 89.17,\n",
       " 88.59,\n",
       " 107.45,\n",
       " 85.76,\n",
       " 113.98,\n",
       " 87.81,\n",
       " 113.36,\n",
       " 74.0,\n",
       " 92.92,\n",
       " 106.06,\n",
       " 91.96,\n",
       " 102.7,\n",
       " 90.27,\n",
       " 100.56,\n",
       " 89.05,\n",
       " 120.18,\n",
       " 86.98,\n",
       " 110.49,\n",
       " 93.08,\n",
       " 112.49,\n",
       " 94.12,\n",
       " 88.69,\n",
       " 104.38,\n",
       " 115.07,\n",
       " 92.03,\n",
       " 106.97,\n",
       " 116.04,\n",
       " 91.63,\n",
       " 169.91,\n",
       " 103.67,\n",
       " 98.52,\n",
       " 109.48,\n",
       " 96.03,\n",
       " 107.16,\n",
       " 94.09,\n",
       " 87.27,\n",
       " 105.35,\n",
       " 97.75,\n",
       " 104.74,\n",
       " 91.62,\n",
       " 115.5,\n",
       " 102.66,\n",
       " 92.48,\n",
       " 99.05,\n",
       " 102.0,\n",
       " 100.32,\n",
       " 74.28,\n",
       " 112.35,\n",
       " 92.58,\n",
       " 116.59,\n",
       " 100.64,\n",
       " 95.38,\n",
       " 84.65,\n",
       " 112.67,\n",
       " 73.34,\n",
       " 94.11,\n",
       " 95.13,\n",
       " 108.43,\n",
       " 89.23,\n",
       " 112.19,\n",
       " 91.02,\n",
       " 108.27,\n",
       " 87.9,\n",
       " 109.16,\n",
       " 99.48,\n",
       " 110.35,\n",
       " 91.53,\n",
       " 106.63,\n",
       " 88.79,\n",
       " 98.24,\n",
       " 109.99,\n",
       " 107.74,\n",
       " 109.73,\n",
       " 91.04,\n",
       " 95.1,\n",
       " 105.21,\n",
       " 87.51,\n",
       " 99.7,\n",
       " 91.44,\n",
       " 122.47,\n",
       " 97.76,\n",
       " 88.07,\n",
       " 105.85,\n",
       " 117.49,\n",
       " 97.69,\n",
       " 92.91,\n",
       " 77.14,\n",
       " 91.21,\n",
       " 107.76,\n",
       " 93.98,\n",
       " 97.36,\n",
       " 102.49,\n",
       " 112.46,\n",
       " 114.61,\n",
       " 108.93,\n",
       " 88.58,\n",
       " 111.92,\n",
       " 94.51,\n",
       " 100.39,\n",
       " 90.87,\n",
       " 93.21,\n",
       " 116.16,\n",
       " 108.08,\n",
       " 98.01,\n",
       " 90.84,\n",
       " 93.67,\n",
       " 136.47,\n",
       " 77.31,\n",
       " 103.46,\n",
       " 107.37,\n",
       " 88.99,\n",
       " 128.05,\n",
       " 112.66,\n",
       " 90.16,\n",
       " 92.2,\n",
       " 154.87,\n",
       " 94.14,\n",
       " 111.7,\n",
       " 89.99,\n",
       " 98.45,\n",
       " 88.72,\n",
       " 99.98,\n",
       " 103.98,\n",
       " 108.19,\n",
       " 110.1,\n",
       " 93.14,\n",
       " 100.21,\n",
       " 88.91,\n",
       " 85.97,\n",
       " 122.45,\n",
       " 112.2,\n",
       " 106.16,\n",
       " 89.66,\n",
       " 90.41,\n",
       " 101.42,\n",
       " 89.52,\n",
       " 111.74,\n",
       " 91.45,\n",
       " 77.69,\n",
       " 117.81,\n",
       " 87.97,\n",
       " 99.17,\n",
       " 93.59,\n",
       " 104.07,\n",
       " 98.57,\n",
       " 101.19,\n",
       " 108.24,\n",
       " 90.06,\n",
       " 92.79,\n",
       " 100.95,\n",
       " 90.76,\n",
       " 119.99,\n",
       " 78.25,\n",
       " 110.63,\n",
       " 87.28,\n",
       " 89.1,\n",
       " 95.6,\n",
       " 108.85,\n",
       " 88.47,\n",
       " 110.33,\n",
       " 87.65,\n",
       " 89.75,\n",
       " 113.87,\n",
       " 108.53,\n",
       " 96.48,\n",
       " 94.88,\n",
       " 111.47,\n",
       " 116.6,\n",
       " 103.54,\n",
       " 107.86,\n",
       " 118.83,\n",
       " 87.28,\n",
       " 129.0,\n",
       " 92.38,\n",
       " 107.35,\n",
       " 94.65,\n",
       " 118.18,\n",
       " 116.34,\n",
       " 99.94,\n",
       " 101.02,\n",
       " 91.99,\n",
       " 97.47,\n",
       " 112.42,\n",
       " 110.2,\n",
       " 93.41,\n",
       " 113.88,\n",
       " 92.88,\n",
       " 107.68,\n",
       " 88.57,\n",
       " 90.03,\n",
       " 112.59,\n",
       " 101.11,\n",
       " 93.02,\n",
       " 88.06,\n",
       " 99.51,\n",
       " 90.77,\n",
       " 89.79,\n",
       " 79.99,\n",
       " 93.4,\n",
       " 113.68,\n",
       " 94.35,\n",
       " 116.87,\n",
       " 112.94,\n",
       " 92.4,\n",
       " 107.12,\n",
       " 100.42,\n",
       " 87.63,\n",
       " 91.02,\n",
       " 87.53,\n",
       " 134.26,\n",
       " 106.59,\n",
       " 121.64,\n",
       " 104.73,\n",
       " 90.46,\n",
       " 88.98,\n",
       " 116.03,\n",
       " 90.34,\n",
       " 101.97,\n",
       " 104.25,\n",
       " 93.74,\n",
       " 94.44,\n",
       " 102.33,\n",
       " 100.07,\n",
       " 101.66,\n",
       " 99.55,\n",
       " 113.4,\n",
       " 97.17,\n",
       " 109.67,\n",
       " 109.16,\n",
       " 106.5,\n",
       " 111.15,\n",
       " 92.83,\n",
       " 97.57,\n",
       " 111.52,\n",
       " 89.6,\n",
       " 105.09,\n",
       " 90.79,\n",
       " 90.54,\n",
       " 95.92,\n",
       " 111.41,\n",
       " 97.3,\n",
       " 106.81,\n",
       " 92.22,\n",
       " 111.04,\n",
       " 96.35,\n",
       " 98.93,\n",
       " 114.94,\n",
       " 89.02,\n",
       " 113.07,\n",
       " 107.61,\n",
       " 104.73,\n",
       " 80.01,\n",
       " 88.6,\n",
       " 88.2,\n",
       " 115.92,\n",
       " 91.2,\n",
       " 109.91,\n",
       " 94.0,\n",
       " 108.23,\n",
       " 75.86,\n",
       " 95.69,\n",
       " 91.16,\n",
       " 95.56,\n",
       " 107.54,\n",
       " 89.6,\n",
       " 101.0,\n",
       " 90.28,\n",
       " 108.32,\n",
       " 92.29,\n",
       " 95.03,\n",
       " 114.39,\n",
       " 104.52,\n",
       " 126.68,\n",
       " 94.56,\n",
       " 111.41,\n",
       " 93.81,\n",
       " 107.48,\n",
       " 73.4,\n",
       " 113.93,\n",
       " 111.88,\n",
       " 91.56,\n",
       " 103.75,\n",
       " 90.76,\n",
       " 113.33,\n",
       " 97.9,\n",
       " 108.92,\n",
       " 90.86,\n",
       " 113.75,\n",
       " 105.43,\n",
       " 92.01,\n",
       " 111.21,\n",
       " 93.65,\n",
       " 110.44,\n",
       " 119.71,\n",
       " 104.29,\n",
       " 111.45,\n",
       " 88.3,\n",
       " 108.53,\n",
       " 91.96,\n",
       " 104.67,\n",
       " 109.36,\n",
       " 98.78,\n",
       " 114.85,\n",
       " 113.12,\n",
       " 93.9,\n",
       " 86.56,\n",
       " 90.23,\n",
       " 105.76,\n",
       " 96.6,\n",
       " 128.25,\n",
       " 118.31,\n",
       " 110.11,\n",
       " 123.89,\n",
       " 100.97,\n",
       " 89.44,\n",
       " 109.04,\n",
       " 116.87,\n",
       " 91.82,\n",
       " 102.49,\n",
       " 99.46,\n",
       " 112.71,\n",
       " 111.54,\n",
       " 113.08,\n",
       " 89.97,\n",
       " 101.11,\n",
       " 90.05,\n",
       " 108.41,\n",
       " 87.1,\n",
       " 101.47,\n",
       " 107.51,\n",
       " 97.03,\n",
       " 88.26,\n",
       " 112.61,\n",
       " 124.37,\n",
       " 131.56,\n",
       " 95.49,\n",
       " 95.75,\n",
       " 106.72,\n",
       " 117.85,\n",
       " 113.64,\n",
       " 103.88,\n",
       " 94.29,\n",
       " 107.94,\n",
       " 113.68,\n",
       " 88.78,\n",
       " 129.19,\n",
       " 91.3,\n",
       " 90.52,\n",
       " 93.62,\n",
       " 105.87,\n",
       " 90.95,\n",
       " 112.5,\n",
       " 89.89,\n",
       " 97.33,\n",
       " 130.97,\n",
       " 74.53,\n",
       " 113.62,\n",
       " 94.95,\n",
       " 108.21,\n",
       " 90.39,\n",
       " 118.17,\n",
       " 90.38,\n",
       " 122.4,\n",
       " 89.83,\n",
       " 111.66,\n",
       " 114.28,\n",
       " 93.38,\n",
       " 147.72,\n",
       " 76.81,\n",
       " 115.73,\n",
       " 96.0,\n",
       " 100.49,\n",
       " 93.12,\n",
       " 94.71,\n",
       " 88.38,\n",
       " 74.2,\n",
       " 103.9,\n",
       " 109.53,\n",
       " 101.39,\n",
       " 119.57,\n",
       " 108.47,\n",
       " 107.22,\n",
       " 77.42,\n",
       " 87.07,\n",
       " 132.59,\n",
       " 90.66,\n",
       " 110.71,\n",
       " 91.35,\n",
       " 108.68,\n",
       " 90.73,\n",
       " 105.31,\n",
       " 91.44,\n",
       " 110.54,\n",
       " 79.81,\n",
       " 110.24,\n",
       " 85.82,\n",
       " 124.17,\n",
       " 100.77,\n",
       " 91.61,\n",
       " 114.37,\n",
       " 89.73,\n",
       " 110.49,\n",
       " 97.99,\n",
       " 87.61,\n",
       " 94.6,\n",
       " 111.44,\n",
       " 91.62,\n",
       " 99.22,\n",
       " 87.07,\n",
       " 101.44,\n",
       " 87.71,\n",
       " 111.54,\n",
       " 112.78,\n",
       " 92.59,\n",
       " 87.65,\n",
       " 109.93,\n",
       " 92.65,\n",
       " 89.74,\n",
       " 117.08,\n",
       " 89.56,\n",
       " 78.19,\n",
       " 105.96,\n",
       " 94.36,\n",
       " 108.9,\n",
       " 88.55,\n",
       " 107.75,\n",
       " 88.9,\n",
       " 118.27,\n",
       " 113.15,\n",
       " 82.2,\n",
       " 111.5,\n",
       " 90.46,\n",
       " 108.56,\n",
       " 99.15,\n",
       " 113.35,\n",
       " 110.53,\n",
       " 119.24,\n",
       " 93.26,\n",
       " 115.62,\n",
       " 97.29,\n",
       " 111.48,\n",
       " 110.48,\n",
       " 89.5,\n",
       " 99.52,\n",
       " 91.52,\n",
       " 88.81,\n",
       " 88.93,\n",
       " 97.99,\n",
       " 112.95,\n",
       " 101.06,\n",
       " 98.97,\n",
       " 117.07,\n",
       " 88.03,\n",
       " 107.45,\n",
       " 90.9,\n",
       " 91.39,\n",
       " 88.49,\n",
       " 101.7,\n",
       " 89.91,\n",
       " 121.23,\n",
       " 93.11,\n",
       " 105.35,\n",
       " 101.49,\n",
       " 108.54,\n",
       " 111.48,\n",
       " 109.92,\n",
       " 103.59,\n",
       " 93.43,\n",
       " 116.02,\n",
       " 100.25,\n",
       " 98.04,\n",
       " 93.47,\n",
       " 97.95,\n",
       " 90.65,\n",
       " 107.71,\n",
       " 85.98,\n",
       " 111.02,\n",
       " 87.87,\n",
       " 95.71,\n",
       " 96.51,\n",
       " 91.68,\n",
       " 111.02,\n",
       " 114.26,\n",
       " 113.93,\n",
       " 98.28,\n",
       " 115.42,\n",
       " 95.22,\n",
       " 102.13,\n",
       " 111.25,\n",
       " 109.19,\n",
       " 93.72,\n",
       " 107.62,\n",
       " 76.27,\n",
       " 118.9,\n",
       " 90.62,\n",
       " 110.23,\n",
       " 97.02,\n",
       " 90.39,\n",
       " 105.66,\n",
       " 95.71,\n",
       " 93.82,\n",
       " 109.19,\n",
       " 95.0,\n",
       " 100.59,\n",
       " 89.6,\n",
       " 109.64,\n",
       " 110.64,\n",
       " 104.62,\n",
       " 92.53,\n",
       " 121.79,\n",
       " 123.68,\n",
       " 94.11,\n",
       " 110.58,\n",
       " 93.8,\n",
       " 100.83,\n",
       " 121.18,\n",
       " 94.67,\n",
       " 87.47,\n",
       " 105.3,\n",
       " 89.65,\n",
       " 78.4,\n",
       " 105.03,\n",
       " 113.41,\n",
       " 99.51,\n",
       " 122.2,\n",
       " 90.78,\n",
       " 113.02,\n",
       " 94.41,\n",
       " 82.24,\n",
       " 110.64,\n",
       " 97.32,\n",
       " 101.43,\n",
       " 140.49,\n",
       " 89.41,\n",
       " 114.91,\n",
       " 112.54,\n",
       " 76.99,\n",
       " 88.26,\n",
       " 109.58,\n",
       " 104.53,\n",
       " 91.21,\n",
       " 111.1,\n",
       " 88.12,\n",
       " 101.46,\n",
       " 88.88,\n",
       " 101.76,\n",
       " 87.71,\n",
       " 98.13,\n",
       " 98.93,\n",
       " 92.12,\n",
       " 108.15,\n",
       " 104.2,\n",
       " 126.52,\n",
       " 91.11,\n",
       " 95.1,\n",
       " 91.58,\n",
       " 116.02,\n",
       " 97.57,\n",
       " 107.36,\n",
       " 109.77,\n",
       " 114.25,\n",
       " 104.42,\n",
       " 91.16,\n",
       " 119.02,\n",
       " 100.42,\n",
       " 109.39,\n",
       " 91.19,\n",
       " 107.24,\n",
       " 114.32,\n",
       " 265.32,\n",
       " 93.02,\n",
       " 90.22,\n",
       " 105.45,\n",
       " 112.38,\n",
       " 94.87,\n",
       " 158.53,\n",
       " 114.51,\n",
       " 127.91,\n",
       " 99.48,\n",
       " 129.32,\n",
       " 83.42,\n",
       " 118.44,\n",
       " 111.9,\n",
       " 91.37,\n",
       " 86.93,\n",
       " 112.51,\n",
       " 141.31,\n",
       " 102.87,\n",
       " 106.79,\n",
       " 99.18,\n",
       " 92.4,\n",
       " 108.57,\n",
       " 95.64,\n",
       " 89.6,\n",
       " 98.95,\n",
       " 108.65,\n",
       " 110.87,\n",
       " 108.36,\n",
       " 78.5,\n",
       " 101.98,\n",
       " 106.56,\n",
       " 88.38,\n",
       " 89.96,\n",
       " 113.56,\n",
       " 112.09,\n",
       " 92.32,\n",
       " 99.78,\n",
       " 92.38,\n",
       " 104.19,\n",
       " 98.01,\n",
       " 78.47,\n",
       " 91.78,\n",
       " 108.38,\n",
       " 105.4,\n",
       " 99.0,\n",
       " 87.13,\n",
       " 107.48,\n",
       " 100.77,\n",
       " 92.95,\n",
       " 87.21,\n",
       " 100.35,\n",
       " 106.19,\n",
       " 90.04,\n",
       " 123.31,\n",
       " 117.89,\n",
       " 88.64,\n",
       " 110.54,\n",
       " 93.76,\n",
       " 117.3,\n",
       " 101.2,\n",
       " 98.17,\n",
       " 99.91,\n",
       " 94.29,\n",
       " 91.63,\n",
       " 107.59,\n",
       " 90.71,\n",
       " 107.36,\n",
       " 91.21,\n",
       " 90.4,\n",
       " 91.27,\n",
       " 90.32,\n",
       " 108.82,\n",
       " 93.75,\n",
       " 108.49,\n",
       " 88.34,\n",
       " 120.17,\n",
       " 87.21,\n",
       " 93.42,\n",
       " 108.34,\n",
       " 90.35,\n",
       " 88.71,\n",
       " 110.7,\n",
       " 115.73,\n",
       " 88.24,\n",
       " 110.12,\n",
       " 89.97,\n",
       " 100.28,\n",
       " 114.35,\n",
       " 92.55,\n",
       " 115.22,\n",
       " 93.83,\n",
       " 94.39,\n",
       " 96.83,\n",
       " 90.96,\n",
       " 111.89,\n",
       " 113.39,\n",
       " 107.13,\n",
       " 125.03,\n",
       " 90.43,\n",
       " 101.58,\n",
       " 103.57,\n",
       " 107.99,\n",
       " 102.39,\n",
       " 113.74,\n",
       " 106.57,\n",
       " 107.48,\n",
       " 106.52,\n",
       " 100.62,\n",
       " 101.33,\n",
       " 108.68,\n",
       " 90.04,\n",
       " 140.15,\n",
       " 94.64,\n",
       " 114.53,\n",
       " 137.44,\n",
       " 110.24,\n",
       " ...]"
      ]
     },
     "execution_count": 58,
     "metadata": {},
     "output_type": "execute_result"
    }
   ],
   "source": [
    "outliers_removed"
   ]
  },
  {
   "cell_type": "code",
   "execution_count": null,
   "metadata": {},
   "outputs": [],
   "source": [
    "#Encoding categorical features to numerical values\n"
   ]
  },
  {
   "cell_type": "code",
   "execution_count": 60,
   "metadata": {},
   "outputs": [
    {
     "data": {
      "text/html": [
       "<div>\n",
       "<style scoped>\n",
       "    .dataframe tbody tr th:only-of-type {\n",
       "        vertical-align: middle;\n",
       "    }\n",
       "\n",
       "    .dataframe tbody tr th {\n",
       "        vertical-align: top;\n",
       "    }\n",
       "\n",
       "    .dataframe thead th {\n",
       "        text-align: right;\n",
       "    }\n",
       "</style>\n",
       "<table border=\"1\" class=\"dataframe\">\n",
       "  <thead>\n",
       "    <tr style=\"text-align: right;\">\n",
       "      <th></th>\n",
       "      <th>ID</th>\n",
       "      <th>y</th>\n",
       "      <th>X0</th>\n",
       "      <th>X1</th>\n",
       "      <th>X2</th>\n",
       "      <th>X3</th>\n",
       "      <th>X4</th>\n",
       "      <th>X5</th>\n",
       "      <th>X6</th>\n",
       "      <th>X8</th>\n",
       "      <th>...</th>\n",
       "      <th>X375</th>\n",
       "      <th>X376</th>\n",
       "      <th>X377</th>\n",
       "      <th>X378</th>\n",
       "      <th>X379</th>\n",
       "      <th>X380</th>\n",
       "      <th>X382</th>\n",
       "      <th>X383</th>\n",
       "      <th>X384</th>\n",
       "      <th>X385</th>\n",
       "    </tr>\n",
       "  </thead>\n",
       "  <tbody>\n",
       "    <tr>\n",
       "      <th>0</th>\n",
       "      <td>0</td>\n",
       "      <td>130.81</td>\n",
       "      <td>k</td>\n",
       "      <td>v</td>\n",
       "      <td>at</td>\n",
       "      <td>a</td>\n",
       "      <td>d</td>\n",
       "      <td>u</td>\n",
       "      <td>j</td>\n",
       "      <td>o</td>\n",
       "      <td>...</td>\n",
       "      <td>0</td>\n",
       "      <td>0</td>\n",
       "      <td>1</td>\n",
       "      <td>0</td>\n",
       "      <td>0</td>\n",
       "      <td>0</td>\n",
       "      <td>0</td>\n",
       "      <td>0</td>\n",
       "      <td>0</td>\n",
       "      <td>0</td>\n",
       "    </tr>\n",
       "    <tr>\n",
       "      <th>1</th>\n",
       "      <td>6</td>\n",
       "      <td>88.53</td>\n",
       "      <td>k</td>\n",
       "      <td>t</td>\n",
       "      <td>av</td>\n",
       "      <td>e</td>\n",
       "      <td>d</td>\n",
       "      <td>y</td>\n",
       "      <td>l</td>\n",
       "      <td>o</td>\n",
       "      <td>...</td>\n",
       "      <td>1</td>\n",
       "      <td>0</td>\n",
       "      <td>0</td>\n",
       "      <td>0</td>\n",
       "      <td>0</td>\n",
       "      <td>0</td>\n",
       "      <td>0</td>\n",
       "      <td>0</td>\n",
       "      <td>0</td>\n",
       "      <td>0</td>\n",
       "    </tr>\n",
       "    <tr>\n",
       "      <th>2</th>\n",
       "      <td>7</td>\n",
       "      <td>76.26</td>\n",
       "      <td>az</td>\n",
       "      <td>w</td>\n",
       "      <td>n</td>\n",
       "      <td>c</td>\n",
       "      <td>d</td>\n",
       "      <td>x</td>\n",
       "      <td>j</td>\n",
       "      <td>x</td>\n",
       "      <td>...</td>\n",
       "      <td>0</td>\n",
       "      <td>0</td>\n",
       "      <td>0</td>\n",
       "      <td>0</td>\n",
       "      <td>0</td>\n",
       "      <td>0</td>\n",
       "      <td>1</td>\n",
       "      <td>0</td>\n",
       "      <td>0</td>\n",
       "      <td>0</td>\n",
       "    </tr>\n",
       "    <tr>\n",
       "      <th>3</th>\n",
       "      <td>9</td>\n",
       "      <td>80.62</td>\n",
       "      <td>az</td>\n",
       "      <td>t</td>\n",
       "      <td>n</td>\n",
       "      <td>f</td>\n",
       "      <td>d</td>\n",
       "      <td>x</td>\n",
       "      <td>l</td>\n",
       "      <td>e</td>\n",
       "      <td>...</td>\n",
       "      <td>0</td>\n",
       "      <td>0</td>\n",
       "      <td>0</td>\n",
       "      <td>0</td>\n",
       "      <td>0</td>\n",
       "      <td>0</td>\n",
       "      <td>0</td>\n",
       "      <td>0</td>\n",
       "      <td>0</td>\n",
       "      <td>0</td>\n",
       "    </tr>\n",
       "    <tr>\n",
       "      <th>4</th>\n",
       "      <td>13</td>\n",
       "      <td>78.02</td>\n",
       "      <td>az</td>\n",
       "      <td>v</td>\n",
       "      <td>n</td>\n",
       "      <td>f</td>\n",
       "      <td>d</td>\n",
       "      <td>h</td>\n",
       "      <td>d</td>\n",
       "      <td>n</td>\n",
       "      <td>...</td>\n",
       "      <td>0</td>\n",
       "      <td>0</td>\n",
       "      <td>0</td>\n",
       "      <td>0</td>\n",
       "      <td>0</td>\n",
       "      <td>0</td>\n",
       "      <td>0</td>\n",
       "      <td>0</td>\n",
       "      <td>0</td>\n",
       "      <td>0</td>\n",
       "    </tr>\n",
       "    <tr>\n",
       "      <th>...</th>\n",
       "      <td>...</td>\n",
       "      <td>...</td>\n",
       "      <td>...</td>\n",
       "      <td>...</td>\n",
       "      <td>...</td>\n",
       "      <td>...</td>\n",
       "      <td>...</td>\n",
       "      <td>...</td>\n",
       "      <td>...</td>\n",
       "      <td>...</td>\n",
       "      <td>...</td>\n",
       "      <td>...</td>\n",
       "      <td>...</td>\n",
       "      <td>...</td>\n",
       "      <td>...</td>\n",
       "      <td>...</td>\n",
       "      <td>...</td>\n",
       "      <td>...</td>\n",
       "      <td>...</td>\n",
       "      <td>...</td>\n",
       "      <td>...</td>\n",
       "    </tr>\n",
       "    <tr>\n",
       "      <th>8413</th>\n",
       "      <td>8410</td>\n",
       "      <td>NaN</td>\n",
       "      <td>aj</td>\n",
       "      <td>h</td>\n",
       "      <td>as</td>\n",
       "      <td>f</td>\n",
       "      <td>d</td>\n",
       "      <td>aa</td>\n",
       "      <td>j</td>\n",
       "      <td>e</td>\n",
       "      <td>...</td>\n",
       "      <td>0</td>\n",
       "      <td>0</td>\n",
       "      <td>0</td>\n",
       "      <td>0</td>\n",
       "      <td>0</td>\n",
       "      <td>0</td>\n",
       "      <td>0</td>\n",
       "      <td>0</td>\n",
       "      <td>0</td>\n",
       "      <td>0</td>\n",
       "    </tr>\n",
       "    <tr>\n",
       "      <th>8414</th>\n",
       "      <td>8411</td>\n",
       "      <td>NaN</td>\n",
       "      <td>t</td>\n",
       "      <td>aa</td>\n",
       "      <td>ai</td>\n",
       "      <td>d</td>\n",
       "      <td>d</td>\n",
       "      <td>aa</td>\n",
       "      <td>j</td>\n",
       "      <td>y</td>\n",
       "      <td>...</td>\n",
       "      <td>0</td>\n",
       "      <td>1</td>\n",
       "      <td>0</td>\n",
       "      <td>0</td>\n",
       "      <td>0</td>\n",
       "      <td>0</td>\n",
       "      <td>0</td>\n",
       "      <td>0</td>\n",
       "      <td>0</td>\n",
       "      <td>0</td>\n",
       "    </tr>\n",
       "    <tr>\n",
       "      <th>8415</th>\n",
       "      <td>8413</td>\n",
       "      <td>NaN</td>\n",
       "      <td>y</td>\n",
       "      <td>v</td>\n",
       "      <td>as</td>\n",
       "      <td>f</td>\n",
       "      <td>d</td>\n",
       "      <td>aa</td>\n",
       "      <td>d</td>\n",
       "      <td>w</td>\n",
       "      <td>...</td>\n",
       "      <td>0</td>\n",
       "      <td>0</td>\n",
       "      <td>0</td>\n",
       "      <td>0</td>\n",
       "      <td>0</td>\n",
       "      <td>0</td>\n",
       "      <td>0</td>\n",
       "      <td>0</td>\n",
       "      <td>0</td>\n",
       "      <td>0</td>\n",
       "    </tr>\n",
       "    <tr>\n",
       "      <th>8416</th>\n",
       "      <td>8414</td>\n",
       "      <td>NaN</td>\n",
       "      <td>ak</td>\n",
       "      <td>v</td>\n",
       "      <td>as</td>\n",
       "      <td>a</td>\n",
       "      <td>d</td>\n",
       "      <td>aa</td>\n",
       "      <td>c</td>\n",
       "      <td>q</td>\n",
       "      <td>...</td>\n",
       "      <td>0</td>\n",
       "      <td>0</td>\n",
       "      <td>1</td>\n",
       "      <td>0</td>\n",
       "      <td>0</td>\n",
       "      <td>0</td>\n",
       "      <td>0</td>\n",
       "      <td>0</td>\n",
       "      <td>0</td>\n",
       "      <td>0</td>\n",
       "    </tr>\n",
       "    <tr>\n",
       "      <th>8417</th>\n",
       "      <td>8416</td>\n",
       "      <td>NaN</td>\n",
       "      <td>t</td>\n",
       "      <td>aa</td>\n",
       "      <td>ai</td>\n",
       "      <td>c</td>\n",
       "      <td>d</td>\n",
       "      <td>aa</td>\n",
       "      <td>g</td>\n",
       "      <td>r</td>\n",
       "      <td>...</td>\n",
       "      <td>1</td>\n",
       "      <td>0</td>\n",
       "      <td>0</td>\n",
       "      <td>0</td>\n",
       "      <td>0</td>\n",
       "      <td>0</td>\n",
       "      <td>0</td>\n",
       "      <td>0</td>\n",
       "      <td>0</td>\n",
       "      <td>0</td>\n",
       "    </tr>\n",
       "  </tbody>\n",
       "</table>\n",
       "<p>8418 rows × 378 columns</p>\n",
       "</div>"
      ],
      "text/plain": [
       "        ID       y  X0  X1  X2 X3 X4  X5 X6 X8  ...  X375  X376  X377  X378  \\\n",
       "0        0  130.81   k   v  at  a  d   u  j  o  ...     0     0     1     0   \n",
       "1        6   88.53   k   t  av  e  d   y  l  o  ...     1     0     0     0   \n",
       "2        7   76.26  az   w   n  c  d   x  j  x  ...     0     0     0     0   \n",
       "3        9   80.62  az   t   n  f  d   x  l  e  ...     0     0     0     0   \n",
       "4       13   78.02  az   v   n  f  d   h  d  n  ...     0     0     0     0   \n",
       "...    ...     ...  ..  ..  .. .. ..  .. .. ..  ...   ...   ...   ...   ...   \n",
       "8413  8410     NaN  aj   h  as  f  d  aa  j  e  ...     0     0     0     0   \n",
       "8414  8411     NaN   t  aa  ai  d  d  aa  j  y  ...     0     1     0     0   \n",
       "8415  8413     NaN   y   v  as  f  d  aa  d  w  ...     0     0     0     0   \n",
       "8416  8414     NaN  ak   v  as  a  d  aa  c  q  ...     0     0     1     0   \n",
       "8417  8416     NaN   t  aa  ai  c  d  aa  g  r  ...     1     0     0     0   \n",
       "\n",
       "      X379  X380  X382  X383  X384  X385  \n",
       "0        0     0     0     0     0     0  \n",
       "1        0     0     0     0     0     0  \n",
       "2        0     0     1     0     0     0  \n",
       "3        0     0     0     0     0     0  \n",
       "4        0     0     0     0     0     0  \n",
       "...    ...   ...   ...   ...   ...   ...  \n",
       "8413     0     0     0     0     0     0  \n",
       "8414     0     0     0     0     0     0  \n",
       "8415     0     0     0     0     0     0  \n",
       "8416     0     0     0     0     0     0  \n",
       "8417     0     0     0     0     0     0  \n",
       "\n",
       "[8418 rows x 378 columns]"
      ]
     },
     "execution_count": 60,
     "metadata": {},
     "output_type": "execute_result"
    }
   ],
   "source": [
    "#We firstly append the two datasets (train and test)\n",
    "\n",
    "#With `ignore_index` set to True:\n",
    "\n",
    "#>>> df.append(df2, ignore_index=True)\n",
    "df_train.append(df_test, ignore_index=True)"
   ]
  },
  {
   "cell_type": "code",
   "execution_count": 61,
   "metadata": {},
   "outputs": [],
   "source": [
    "#We assign the DataFrame as 'merc'\n",
    "df1 = df_train.append(df_test, ignore_index=True)\n",
    "\n"
   ]
  },
  {
   "cell_type": "code",
   "execution_count": 64,
   "metadata": {},
   "outputs": [],
   "source": [
    "df1=pd.get_dummies(df1)"
   ]
  },
  {
   "cell_type": "code",
   "execution_count": 65,
   "metadata": {},
   "outputs": [
    {
     "data": {
      "text/plain": [
       "RangeIndex(start=0, stop=8418, step=1)"
      ]
     },
     "execution_count": 65,
     "metadata": {},
     "output_type": "execute_result"
    }
   ],
   "source": [
    "#Checking the indexes of the converted dataset\n",
    "df1.index"
   ]
  },
  {
   "cell_type": "code",
   "execution_count": 66,
   "metadata": {},
   "outputs": [
    {
     "ename": "SyntaxError",
     "evalue": "invalid syntax (<ipython-input-66-f5c41ac9e57b>, line 1)",
     "output_type": "error",
     "traceback": [
      "\u001b[1;36m  File \u001b[1;32m\"<ipython-input-66-f5c41ac9e57b>\"\u001b[1;36m, line \u001b[1;32m1\u001b[0m\n\u001b[1;33m    train, test = [0:len(df_train)], df1[len(df_train):]\u001b[0m\n\u001b[1;37m                    ^\u001b[0m\n\u001b[1;31mSyntaxError\u001b[0m\u001b[1;31m:\u001b[0m invalid syntax\n"
     ]
    }
   ],
   "source": [
    "train, test = [0:len(df_train)], df1[len(df_train):]"
   ]
  },
  {
   "cell_type": "code",
   "execution_count": 68,
   "metadata": {},
   "outputs": [],
   "source": [
    "train, test = df1[0:len(df_train)], df1[len(df_train):]"
   ]
  },
  {
   "cell_type": "code",
   "execution_count": 69,
   "metadata": {},
   "outputs": [
    {
     "data": {
      "text/plain": [
       "((4209, 581), (4209, 581))"
      ]
     },
     "execution_count": 69,
     "metadata": {},
     "output_type": "execute_result"
    }
   ],
   "source": [
    "train.shape, test.shape"
   ]
  },
  {
   "cell_type": "code",
   "execution_count": 70,
   "metadata": {},
   "outputs": [
    {
     "data": {
      "text/html": [
       "<div>\n",
       "<style scoped>\n",
       "    .dataframe tbody tr th:only-of-type {\n",
       "        vertical-align: middle;\n",
       "    }\n",
       "\n",
       "    .dataframe tbody tr th {\n",
       "        vertical-align: top;\n",
       "    }\n",
       "\n",
       "    .dataframe thead th {\n",
       "        text-align: right;\n",
       "    }\n",
       "</style>\n",
       "<table border=\"1\" class=\"dataframe\">\n",
       "  <thead>\n",
       "    <tr style=\"text-align: right;\">\n",
       "      <th></th>\n",
       "      <th>ID</th>\n",
       "      <th>y</th>\n",
       "      <th>X10</th>\n",
       "      <th>X11</th>\n",
       "      <th>X12</th>\n",
       "      <th>X13</th>\n",
       "      <th>X14</th>\n",
       "      <th>X15</th>\n",
       "      <th>X16</th>\n",
       "      <th>X17</th>\n",
       "      <th>...</th>\n",
       "      <th>X8_p</th>\n",
       "      <th>X8_q</th>\n",
       "      <th>X8_r</th>\n",
       "      <th>X8_s</th>\n",
       "      <th>X8_t</th>\n",
       "      <th>X8_u</th>\n",
       "      <th>X8_v</th>\n",
       "      <th>X8_w</th>\n",
       "      <th>X8_x</th>\n",
       "      <th>X8_y</th>\n",
       "    </tr>\n",
       "  </thead>\n",
       "  <tbody>\n",
       "    <tr>\n",
       "      <th>0</th>\n",
       "      <td>0</td>\n",
       "      <td>130.81</td>\n",
       "      <td>0</td>\n",
       "      <td>0</td>\n",
       "      <td>0</td>\n",
       "      <td>1</td>\n",
       "      <td>0</td>\n",
       "      <td>0</td>\n",
       "      <td>0</td>\n",
       "      <td>0</td>\n",
       "      <td>...</td>\n",
       "      <td>0</td>\n",
       "      <td>0</td>\n",
       "      <td>0</td>\n",
       "      <td>0</td>\n",
       "      <td>0</td>\n",
       "      <td>0</td>\n",
       "      <td>0</td>\n",
       "      <td>0</td>\n",
       "      <td>0</td>\n",
       "      <td>0</td>\n",
       "    </tr>\n",
       "    <tr>\n",
       "      <th>1</th>\n",
       "      <td>6</td>\n",
       "      <td>88.53</td>\n",
       "      <td>0</td>\n",
       "      <td>0</td>\n",
       "      <td>0</td>\n",
       "      <td>0</td>\n",
       "      <td>0</td>\n",
       "      <td>0</td>\n",
       "      <td>0</td>\n",
       "      <td>0</td>\n",
       "      <td>...</td>\n",
       "      <td>0</td>\n",
       "      <td>0</td>\n",
       "      <td>0</td>\n",
       "      <td>0</td>\n",
       "      <td>0</td>\n",
       "      <td>0</td>\n",
       "      <td>0</td>\n",
       "      <td>0</td>\n",
       "      <td>0</td>\n",
       "      <td>0</td>\n",
       "    </tr>\n",
       "    <tr>\n",
       "      <th>2</th>\n",
       "      <td>7</td>\n",
       "      <td>76.26</td>\n",
       "      <td>0</td>\n",
       "      <td>0</td>\n",
       "      <td>0</td>\n",
       "      <td>0</td>\n",
       "      <td>0</td>\n",
       "      <td>0</td>\n",
       "      <td>0</td>\n",
       "      <td>1</td>\n",
       "      <td>...</td>\n",
       "      <td>0</td>\n",
       "      <td>0</td>\n",
       "      <td>0</td>\n",
       "      <td>0</td>\n",
       "      <td>0</td>\n",
       "      <td>0</td>\n",
       "      <td>0</td>\n",
       "      <td>0</td>\n",
       "      <td>1</td>\n",
       "      <td>0</td>\n",
       "    </tr>\n",
       "    <tr>\n",
       "      <th>3</th>\n",
       "      <td>9</td>\n",
       "      <td>80.62</td>\n",
       "      <td>0</td>\n",
       "      <td>0</td>\n",
       "      <td>0</td>\n",
       "      <td>0</td>\n",
       "      <td>0</td>\n",
       "      <td>0</td>\n",
       "      <td>0</td>\n",
       "      <td>0</td>\n",
       "      <td>...</td>\n",
       "      <td>0</td>\n",
       "      <td>0</td>\n",
       "      <td>0</td>\n",
       "      <td>0</td>\n",
       "      <td>0</td>\n",
       "      <td>0</td>\n",
       "      <td>0</td>\n",
       "      <td>0</td>\n",
       "      <td>0</td>\n",
       "      <td>0</td>\n",
       "    </tr>\n",
       "    <tr>\n",
       "      <th>4</th>\n",
       "      <td>13</td>\n",
       "      <td>78.02</td>\n",
       "      <td>0</td>\n",
       "      <td>0</td>\n",
       "      <td>0</td>\n",
       "      <td>0</td>\n",
       "      <td>0</td>\n",
       "      <td>0</td>\n",
       "      <td>0</td>\n",
       "      <td>0</td>\n",
       "      <td>...</td>\n",
       "      <td>0</td>\n",
       "      <td>0</td>\n",
       "      <td>0</td>\n",
       "      <td>0</td>\n",
       "      <td>0</td>\n",
       "      <td>0</td>\n",
       "      <td>0</td>\n",
       "      <td>0</td>\n",
       "      <td>0</td>\n",
       "      <td>0</td>\n",
       "    </tr>\n",
       "  </tbody>\n",
       "</table>\n",
       "<p>5 rows × 581 columns</p>\n",
       "</div>"
      ],
      "text/plain": [
       "   ID       y  X10  X11  X12  X13  X14  X15  X16  X17  ...  X8_p  X8_q  X8_r  \\\n",
       "0   0  130.81    0    0    0    1    0    0    0    0  ...     0     0     0   \n",
       "1   6   88.53    0    0    0    0    0    0    0    0  ...     0     0     0   \n",
       "2   7   76.26    0    0    0    0    0    0    0    1  ...     0     0     0   \n",
       "3   9   80.62    0    0    0    0    0    0    0    0  ...     0     0     0   \n",
       "4  13   78.02    0    0    0    0    0    0    0    0  ...     0     0     0   \n",
       "\n",
       "   X8_s  X8_t  X8_u  X8_v  X8_w  X8_x  X8_y  \n",
       "0     0     0     0     0     0     0     0  \n",
       "1     0     0     0     0     0     0     0  \n",
       "2     0     0     0     0     0     1     0  \n",
       "3     0     0     0     0     0     0     0  \n",
       "4     0     0     0     0     0     0     0  \n",
       "\n",
       "[5 rows x 581 columns]"
      ]
     },
     "execution_count": 70,
     "metadata": {},
     "output_type": "execute_result"
    }
   ],
   "source": [
    "df1.head()"
   ]
  },
  {
   "cell_type": "code",
   "execution_count": 71,
   "metadata": {},
   "outputs": [],
   "source": [
    "#Seperate the features and response column\n",
    "X_train_1 = train.drop(['y','ID'], axis=1)\n",
    "y_train_1 = train['y']\n",
    "\n",
    "X_test_1 = test.drop(['y','ID'], axis=1)"
   ]
  },
  {
   "cell_type": "code",
   "execution_count": 72,
   "metadata": {},
   "outputs": [],
   "source": [
    "#Decision tree and Random Forest\n",
    "from sklearn.model_selection import train_test_split\n",
    "from sklearn.metrics import r2_score, mean_squared_error\n",
    "X_train, X_test, y_train, y_test = train_test_split(X_train_1,y_train_1, test_size=0.30, random_state=101)"
   ]
  },
  {
   "cell_type": "code",
   "execution_count": 73,
   "metadata": {},
   "outputs": [],
   "source": [
    "from sklearn.tree import DecisionTreeRegressor\n",
    "dtree = DecisionTreeRegressor()"
   ]
  },
  {
   "cell_type": "code",
   "execution_count": 74,
   "metadata": {},
   "outputs": [
    {
     "name": "stdout",
     "output_type": "stream",
     "text": [
      "Wall time: 386 ms\n"
     ]
    },
    {
     "data": {
      "text/plain": [
       "DecisionTreeRegressor()"
      ]
     },
     "execution_count": 74,
     "metadata": {},
     "output_type": "execute_result"
    }
   ],
   "source": [
    "%%time\n",
    "dtree.fit(X_train, y_train)"
   ]
  },
  {
   "cell_type": "code",
   "execution_count": 75,
   "metadata": {},
   "outputs": [],
   "source": [
    "y_pred = dtree.predict(X_train)"
   ]
  },
  {
   "cell_type": "code",
   "execution_count": 76,
   "metadata": {},
   "outputs": [
    {
     "data": {
      "text/plain": [
       "array([106.41, 110.57,  98.15, ..., 108.92, 102.06, 110.47])"
      ]
     },
     "execution_count": 76,
     "metadata": {},
     "output_type": "execute_result"
    }
   ],
   "source": [
    "y_pred"
   ]
  },
  {
   "cell_type": "code",
   "execution_count": 77,
   "metadata": {},
   "outputs": [],
   "source": [
    "score = r2_score(y_train, y_pred)"
   ]
  },
  {
   "cell_type": "code",
   "execution_count": 78,
   "metadata": {},
   "outputs": [],
   "source": [
    "error = mean_squared_error(y_train,y_pred)"
   ]
  },
  {
   "cell_type": "code",
   "execution_count": 79,
   "metadata": {},
   "outputs": [
    {
     "data": {
      "text/plain": [
       "4.430503405424627"
      ]
     },
     "execution_count": 79,
     "metadata": {},
     "output_type": "execute_result"
    }
   ],
   "source": [
    "error"
   ]
  },
  {
   "cell_type": "code",
   "execution_count": 80,
   "metadata": {},
   "outputs": [
    {
     "data": {
      "text/plain": [
       "0.973453377514737"
      ]
     },
     "execution_count": 80,
     "metadata": {},
     "output_type": "execute_result"
    }
   ],
   "source": [
    "score"
   ]
  },
  {
   "cell_type": "code",
   "execution_count": null,
   "metadata": {},
   "outputs": [],
   "source": [
    "#This is pretty! good our model is doing well with the train dataset prediction of 97% accuracy.\n"
   ]
  },
  {
   "cell_type": "code",
   "execution_count": 81,
   "metadata": {},
   "outputs": [],
   "source": [
    "y_pred = dtree.predict(X_test)"
   ]
  },
  {
   "cell_type": "code",
   "execution_count": 82,
   "metadata": {},
   "outputs": [],
   "source": [
    "score = r2_score(y_test, y_pred)"
   ]
  },
  {
   "cell_type": "code",
   "execution_count": 83,
   "metadata": {},
   "outputs": [
    {
     "data": {
      "text/plain": [
       "0.21604066688461887"
      ]
     },
     "execution_count": 83,
     "metadata": {},
     "output_type": "execute_result"
    }
   ],
   "source": [
    "score"
   ]
  },
  {
   "cell_type": "code",
   "execution_count": null,
   "metadata": {},
   "outputs": [],
   "source": [
    "#Not the good score in our testing dataset, we might as well forget or try en Ensemble learning methods and see which model\n",
    "will give us a better accurary.¶"
   ]
  },
  {
   "cell_type": "code",
   "execution_count": 84,
   "metadata": {},
   "outputs": [],
   "source": [
    "#instatiate the Random Forest Regressor\n",
    "from sklearn.ensemble import RandomForestRegressor \n",
    "rf_reg = RandomForestRegressor(n_estimators=50) "
   ]
  },
  {
   "cell_type": "code",
   "execution_count": 85,
   "metadata": {},
   "outputs": [],
   "source": [
    "#instatiate the Random Forest Regressor\n",
    "from sklearn.ensemble import RandomForestRegressor \n",
    "rf_reg = RandomForestRegressor(n_estimators=50) "
   ]
  },
  {
   "cell_type": "code",
   "execution_count": 86,
   "metadata": {},
   "outputs": [],
   "source": [
    "X_train, X_test, y_train, y_test = train_test_split(X_train_1,y_train_1, test_size=0.25, random_state=4)"
   ]
  },
  {
   "cell_type": "code",
   "execution_count": 87,
   "metadata": {},
   "outputs": [
    {
     "name": "stdout",
     "output_type": "stream",
     "text": [
      "Wall time: 12.6 s\n"
     ]
    },
    {
     "data": {
      "text/plain": [
       "RandomForestRegressor(n_estimators=50)"
      ]
     },
     "execution_count": 87,
     "metadata": {},
     "output_type": "execute_result"
    }
   ],
   "source": [
    "%%time\n",
    "#fit the data\n",
    "rf_reg.fit(X_train,y_train)"
   ]
  },
  {
   "cell_type": "code",
   "execution_count": 88,
   "metadata": {},
   "outputs": [
    {
     "name": "stdout",
     "output_type": "stream",
     "text": [
      "\n",
      "Training score :\n",
      "Mean square error : 15\n",
      "R2 score:  1\n",
      "\n",
      "Testing score :\n",
      "Mean square error : 74\n",
      "R2 score:  1\n"
     ]
    }
   ],
   "source": [
    "#from sklearn.metrics import r2_score, mean_squared_error\n",
    "\n",
    "\n",
    "#predict (training samples)\n",
    "y_pred = rf_reg.predict(X_train)\n",
    "\n",
    "print('\\nTraining score :')\n",
    "print('Mean square error : %2.f'% mean_squared_error(y_train,y_pred))\n",
    "print('R2 score: %2.f' %r2_score(y_train,y_pred))\n",
    "\n",
    "#predict (testing samples)\n",
    "y_pred = rf_reg.predict(X_test)\n",
    "\n",
    "print('\\nTesting score :')\n",
    "print('Mean square error : %2.f'% mean_squared_error(y_test,y_pred))\n",
    "print('R2 score: %2.f' %r2_score(y_test,y_pred))"
   ]
  },
  {
   "cell_type": "code",
   "execution_count": null,
   "metadata": {},
   "outputs": [],
   "source": [
    "#We found out how far away our average prediction is from the actual value by taking an absolute error"
   ]
  },
  {
   "cell_type": "code",
   "execution_count": 89,
   "metadata": {},
   "outputs": [],
   "source": [
    "# Use the forest's predict method on the test data\n",
    "predictions = rf_reg.predict(X_test)"
   ]
  },
  {
   "cell_type": "code",
   "execution_count": 90,
   "metadata": {},
   "outputs": [],
   "source": [
    "# Calculate the absolute errors\n",
    "errors = abs(predictions - y_test)"
   ]
  },
  {
   "cell_type": "code",
   "execution_count": 91,
   "metadata": {},
   "outputs": [
    {
     "name": "stdout",
     "output_type": "stream",
     "text": [
      "Mean Absolute Error: 5.85 degrees.\n"
     ]
    }
   ],
   "source": [
    "# Print out the mean absolute error (mae)\n",
    "print('Mean Absolute Error:', round(np.mean(errors), 2), 'degrees.')"
   ]
  },
  {
   "cell_type": "code",
   "execution_count": null,
   "metadata": {},
   "outputs": [],
   "source": [
    "#Our average estimate is off by 3.01 degrees which is not bad\n",
    "Dertermine Performance Metrics"
   ]
  },
  {
   "cell_type": "code",
   "execution_count": 92,
   "metadata": {},
   "outputs": [],
   "source": [
    "# Calculate mean absolute percentage error (MAPE)\n",
    "mape = 100 * (errors / y_test)"
   ]
  },
  {
   "cell_type": "code",
   "execution_count": 93,
   "metadata": {},
   "outputs": [],
   "source": [
    "# Calculate and display accuracy\n",
    "accuracy = 100 - np.mean(mape)"
   ]
  },
  {
   "cell_type": "code",
   "execution_count": 94,
   "metadata": {},
   "outputs": [
    {
     "name": "stdout",
     "output_type": "stream",
     "text": [
      "Accuracy: 94.41 %.\n"
     ]
    }
   ],
   "source": [
    "print('Accuracy:', round(accuracy, 2), '%.')"
   ]
  },
  {
   "cell_type": "code",
   "execution_count": null,
   "metadata": {},
   "outputs": [],
   "source": [
    "#Our model has learned to predict the maximum time it takes for the cars to pass the testing with an accuracy of 94.4%\n",
    "Ensemble Learning (The performance of boosting models)\n",
    "Ensemble techniques combine individual models together to improve the stabilty and predictive power of the model. One of the ensemble methods are Boosting and Gradient Boosting model.\n",
    "\n",
    "Boosting technique reduce bias by adding all the weak learners sequantially, each classifier trying to correct its predecessor.\n",
    "\n",
    "Gradient Boosting minimizes the loss function(MSE)of a models by adding weak learners using a gradient descesnt procedure."
   ]
  },
  {
   "cell_type": "code",
   "execution_count": null,
   "metadata": {},
   "outputs": [],
   "source": [
    "#Building Models\n",
    "Gradient BoostingRegressor\n",
    "XGBoost"
   ]
  },
  {
   "cell_type": "code",
   "execution_count": 95,
   "metadata": {},
   "outputs": [],
   "source": [
    "#From sklearn we load Gradient Boosting\n",
    "from sklearn.ensemble import GradientBoostingRegressor"
   ]
  },
  {
   "cell_type": "code",
   "execution_count": 96,
   "metadata": {},
   "outputs": [
    {
     "name": "stdout",
     "output_type": "stream",
     "text": [
      "Wall time: 4.93 s\n"
     ]
    },
    {
     "data": {
      "text/plain": [
       "GradientBoostingRegressor()"
      ]
     },
     "execution_count": 96,
     "metadata": {},
     "output_type": "execute_result"
    }
   ],
   "source": [
    "%%time\n",
    "GB_regressor = GradientBoostingRegressor()\n",
    "GB_regressor.fit(X_train,y_train)"
   ]
  },
  {
   "cell_type": "code",
   "execution_count": 97,
   "metadata": {},
   "outputs": [],
   "source": [
    "y_predictions = GB_regressor.predict(X_train)"
   ]
  },
  {
   "cell_type": "code",
   "execution_count": 98,
   "metadata": {},
   "outputs": [
    {
     "data": {
      "text/plain": [
       "array([ 93.65270035, 117.62672753, 112.33883703, ...,  94.02805001,\n",
       "       102.88692866, 113.09051301])"
      ]
     },
     "execution_count": 98,
     "metadata": {},
     "output_type": "execute_result"
    }
   ],
   "source": [
    "y_predictions"
   ]
  },
  {
   "cell_type": "code",
   "execution_count": 99,
   "metadata": {},
   "outputs": [
    {
     "name": "stdout",
     "output_type": "stream",
     "text": [
      "Score of Model: 0.6534439286474316\n",
      "Mean square error: 56.428831460920506\n"
     ]
    }
   ],
   "source": [
    "print('Score of Model:', r2_score(y_train,y_predictions))\n",
    "print('Mean square error:', mean_squared_error(y_train, y_predictions))"
   ]
  },
  {
   "cell_type": "code",
   "execution_count": null,
   "metadata": {},
   "outputs": [],
   "source": [
    "#test predictions"
   ]
  },
  {
   "cell_type": "code",
   "execution_count": 100,
   "metadata": {},
   "outputs": [],
   "source": [
    "y_predictions = GB_regressor.predict(X_test)"
   ]
  },
  {
   "cell_type": "code",
   "execution_count": 101,
   "metadata": {},
   "outputs": [
    {
     "data": {
      "text/plain": [
       "array([ 92.97230779,  93.63709592, 113.68904018, ..., 111.00392376,\n",
       "        92.66303531, 104.93420623])"
      ]
     },
     "execution_count": 101,
     "metadata": {},
     "output_type": "execute_result"
    }
   ],
   "source": [
    "y_predictions"
   ]
  },
  {
   "cell_type": "code",
   "execution_count": 103,
   "metadata": {},
   "outputs": [
    {
     "name": "stdout",
     "output_type": "stream",
     "text": [
      "Score of Model: 0.559465408444088\n",
      "Mean square error: 68.03359410806297\n"
     ]
    }
   ],
   "source": [
    "print('Score of Model:', r2_score(y_test,y_predictions))\n",
    "print('Mean square error:', mean_squared_error(y_test,y_predictions))\n"
   ]
  },
  {
   "cell_type": "code",
   "execution_count": null,
   "metadata": {},
   "outputs": [],
   "source": [
    "#XGBoost Modelling"
   ]
  },
  {
   "cell_type": "code",
   "execution_count": 104,
   "metadata": {},
   "outputs": [],
   "source": [
    "from xgboost import XGBRegressor"
   ]
  },
  {
   "cell_type": "code",
   "execution_count": 105,
   "metadata": {},
   "outputs": [
    {
     "name": "stdout",
     "output_type": "stream",
     "text": [
      "Wall time: 5.58 s\n"
     ]
    },
    {
     "data": {
      "text/plain": [
       "XGBRegressor(base_score=0.5, booster='gbtree', colsample_bylevel=1,\n",
       "             colsample_bynode=1, colsample_bytree=1, gamma=0, gpu_id=-1,\n",
       "             importance_type='gain', interaction_constraints='',\n",
       "             learning_rate=0.300000012, max_delta_step=0, max_depth=6,\n",
       "             min_child_weight=1, missing=nan, monotone_constraints='()',\n",
       "             n_estimators=100, n_jobs=4, num_parallel_tree=1, random_state=0,\n",
       "             reg_alpha=0, reg_lambda=1, scale_pos_weight=1, subsample=1,\n",
       "             tree_method='exact', validate_parameters=1, verbosity=None)"
      ]
     },
     "execution_count": 105,
     "metadata": {},
     "output_type": "execute_result"
    }
   ],
   "source": [
    "%%time\n",
    "xgb_regressor = XGBRegressor()\n",
    "xgb_regressor.fit(X_train, y_train)"
   ]
  },
  {
   "cell_type": "code",
   "execution_count": 106,
   "metadata": {},
   "outputs": [],
   "source": [
    "y_prediction2 = xgb_regressor.predict(X_train)"
   ]
  },
  {
   "cell_type": "code",
   "execution_count": 107,
   "metadata": {},
   "outputs": [
    {
     "data": {
      "text/plain": [
       "array([ 91.97367, 116.81204, 111.34714, ...,  90.41026,  99.92695,\n",
       "       106.66764], dtype=float32)"
      ]
     },
     "execution_count": 107,
     "metadata": {},
     "output_type": "execute_result"
    }
   ],
   "source": [
    "y_prediction2"
   ]
  },
  {
   "cell_type": "code",
   "execution_count": 108,
   "metadata": {},
   "outputs": [
    {
     "name": "stdout",
     "output_type": "stream",
     "text": [
      "Score of Model : 0.8796836549205825\n",
      "Mean square error : 19.590800218800105\n"
     ]
    }
   ],
   "source": [
    "print('Score of Model :', r2_score(y_train,y_prediction2))\n",
    "print('Mean square error :', mean_squared_error(y_train,y_prediction2))"
   ]
  },
  {
   "cell_type": "code",
   "execution_count": null,
   "metadata": {},
   "outputs": [],
   "source": [
    "#Test predictions"
   ]
  },
  {
   "cell_type": "code",
   "execution_count": 111,
   "metadata": {},
   "outputs": [],
   "source": [
    "y_prediction3 = xgb_regressor.predict(X_test)"
   ]
  },
  {
   "cell_type": "code",
   "execution_count": 112,
   "metadata": {},
   "outputs": [
    {
     "data": {
      "text/plain": [
       "array([ 93.33676 , 102.50792 , 114.76448 , ..., 110.852036,  89.03002 ,\n",
       "       106.508675], dtype=float32)"
      ]
     },
     "execution_count": 112,
     "metadata": {},
     "output_type": "execute_result"
    }
   ],
   "source": [
    "y_prediction3"
   ]
  },
  {
   "cell_type": "code",
   "execution_count": 113,
   "metadata": {},
   "outputs": [
    {
     "name": "stdout",
     "output_type": "stream",
     "text": [
      "Score of Model : 0.5115153879941592\n",
      "Mean square error : 75.4387157291417\n"
     ]
    }
   ],
   "source": [
    "print('Score of Model :', r2_score(y_test,y_prediction3))\n",
    "print('Mean square error :', mean_squared_error(y_test,y_prediction3))"
   ]
  },
  {
   "cell_type": "code",
   "execution_count": null,
   "metadata": {},
   "outputs": [],
   "source": [
    "#Observations\n",
    "As we apply above four regression models we come to observe that if we use model in productionization Decision tree is the best among above as of time complexity,and with r2_score.\n",
    "If we also only care about the erros, Decision tree and Random Forest are the best. However Random forest is the slowest model with 26.1s.\n",
    "We can improve our ensembe learning models by doing more feature engineering:\n",
    "Removing outliers\n",
    "Dropping columns with low variance of about 0.01 threshold value\n",
    "Checking some correlation of the indexes and remove those columns with same correlation as it denotes duplicates\n",
    "Implementing the models using hyperparameter tuning.\n",
    "Hyperparameter tuning¶"
   ]
  },
  {
   "cell_type": "code",
   "execution_count": 115,
   "metadata": {},
   "outputs": [],
   "source": [
    "# Hyper Parametezation using RandomizedSearchCV\n",
    "from sklearn.model_selection import RandomizedSearchCV, GridSearchCV\n",
    "# We evaluate the params using \"mae\"\n",
    "from sklearn.metrics import mean_absolute_error\n"
   ]
  },
  {
   "cell_type": "code",
   "execution_count": 116,
   "metadata": {},
   "outputs": [],
   "source": [
    "# Prepare the dict of parameters to use\n",
    "xgb_params = { \"max_depth\" : [3,4,5,6,7,8,9],\n",
    "                \"learning_rate\" : [0.05,0.10,0.15,0.20,0.25,0.30],\n",
    "                \"verbosity\" : [0,1,3],\n",
    "                \"min_child_weights\" : [1,3,5,7],\n",
    "                \"gamma\" : [0.0,0.1,0.2,0.3,0.4],\n",
    "                \"colsample_bytree\" : [0.3,0.4,0.5,0.7],\n",
    "                \"n_estimators\" : [100]\n",
    "               }"
   ]
  },
  {
   "cell_type": "code",
   "execution_count": 117,
   "metadata": {},
   "outputs": [],
   "source": [
    "def timer(start_time = None):\n",
    "    if not start_time:\n",
    "        start_time = datetime.now()\n",
    "        return start_time\n",
    "    elif start_time:\n",
    "        thour, temp_sec = divmod ((datetime.now()-start_time).total_seconds(), 3600)\n",
    "        tmin, tsec = divmod(temp_sec, 60)\n",
    "        print('n\\ Time taken: %i hours %i modules and %s seconds.' %(thour, tmin, round(tsec,2)))"
   ]
  },
  {
   "cell_type": "code",
   "execution_count": 118,
   "metadata": {},
   "outputs": [],
   "source": [
    "class Timer:\n",
    "    def _init_(self):\n",
    "        self.start = time.time()\n",
    "        def restart(self):\n",
    "            self.start = time.time()\n",
    "            m,s = divmod(end_self.start, 60)\n",
    "            h,m = divmod(m,60)\n",
    "            time_str = \"%02d:%02d\" %(h,m,s)\n",
    "            return time_str"
   ]
  },
  {
   "cell_type": "code",
   "execution_count": 119,
   "metadata": {},
   "outputs": [],
   "source": [
    "#Instantiate the xgboost regressor model\n",
    "regressor=XGBRegressor()"
   ]
  },
  {
   "cell_type": "code",
   "execution_count": 120,
   "metadata": {},
   "outputs": [],
   "source": [
    "#Call the RandomizdSearchCV\n",
    "\n",
    "random_search = RandomizedSearchCV(regressor,param_distributions=xgb_params,n_iter=5, scoring='neg_mean_squared_error', \n",
    "                                   n_jobs=-1,cv=5,verbose=3)"
   ]
  },
  {
   "cell_type": "code",
   "execution_count": 121,
   "metadata": {},
   "outputs": [
    {
     "name": "stdout",
     "output_type": "stream",
     "text": [
      "Fitting 5 folds for each of 5 candidates, totalling 25 fits\n"
     ]
    },
    {
     "name": "stderr",
     "output_type": "stream",
     "text": [
      "[Parallel(n_jobs=-1)]: Using backend LokyBackend with 4 concurrent workers.\n",
      "[Parallel(n_jobs=-1)]: Done  25 out of  25 | elapsed:  1.0min finished\n"
     ]
    },
    {
     "name": "stdout",
     "output_type": "stream",
     "text": [
      "n\\ Time taken: 0 hours 1 modules and 3.88 seconds.\n"
     ]
    }
   ],
   "source": [
    "# Fitting the model into a timer\n",
    "\n",
    "from datetime import datetime\n",
    "start_time = timer(None)\n",
    "random_search.fit(X_train,y_train)\n",
    "timer(start_time)"
   ]
  },
  {
   "cell_type": "code",
   "execution_count": 122,
   "metadata": {},
   "outputs": [
    {
     "data": {
      "text/plain": [
       "XGBRegressor(base_score=0.5, booster='gbtree', colsample_bylevel=1,\n",
       "             colsample_bynode=1, colsample_bytree=0.3, gamma=0.1, gpu_id=-1,\n",
       "             importance_type='gain', interaction_constraints='',\n",
       "             learning_rate=0.2, max_delta_step=0, max_depth=3,\n",
       "             min_child_weight=1, min_child_weights=5, missing=nan,\n",
       "             monotone_constraints='()', n_estimators=100, n_jobs=4,\n",
       "             num_parallel_tree=1, random_state=0, reg_alpha=0, reg_lambda=1,\n",
       "             scale_pos_weight=1, subsample=1, tree_method='exact',\n",
       "             validate_parameters=1, verbosity=0)"
      ]
     },
     "execution_count": 122,
     "metadata": {},
     "output_type": "execute_result"
    }
   ],
   "source": [
    "# Parameter setting that gave the best results on the hold out data.\n",
    "random_search.best_estimator_"
   ]
  },
  {
   "cell_type": "code",
   "execution_count": 123,
   "metadata": {},
   "outputs": [
    {
     "data": {
      "text/plain": [
       "{'verbosity': 0,\n",
       " 'n_estimators': 100,\n",
       " 'min_child_weights': 5,\n",
       " 'max_depth': 3,\n",
       " 'learning_rate': 0.2,\n",
       " 'gamma': 0.1,\n",
       " 'colsample_bytree': 0.3}"
      ]
     },
     "execution_count": 123,
     "metadata": {},
     "output_type": "execute_result"
    }
   ],
   "source": [
    "# Gives the parameter setting for the best model, that gives the highest mean score.\n",
    "random_search.best_params_"
   ]
  },
  {
   "cell_type": "code",
   "execution_count": 124,
   "metadata": {},
   "outputs": [
    {
     "data": {
      "text/plain": [
       "{'verbosity': 0,\n",
       " 'n_estimators': 100,\n",
       " 'min_child_weights': 5,\n",
       " 'max_depth': 3,\n",
       " 'learning_rate': 0.2,\n",
       " 'gamma': 0.1,\n",
       " 'colsample_bytree': 0.3}"
      ]
     },
     "execution_count": 124,
     "metadata": {},
     "output_type": "execute_result"
    }
   ],
   "source": [
    "# Alternate code for the above task.\n",
    "random_search.cv_results_['params'][random_search.best_index_]"
   ]
  },
  {
   "cell_type": "code",
   "execution_count": 125,
   "metadata": {},
   "outputs": [],
   "source": [
    "regressor=XGBRegressor(base_score=0.5, booster='gbtree', colsample_bylevel=1,\n",
    "             colsample_bynode=1, colsample_bytree=0.5, gamma=0.3,\n",
    "             importance_type='gain', learning_rate=0.05, max_delta_step=0,\n",
    "             max_depth=4, min_child_weight=1, min_child_weights=5, missing=None,\n",
    "             n_estimators=100, n_jobs=1, nthread=None, objective='reg:linear',\n",
    "             random_state=0, reg_alpha=0, reg_lambda=1, scale_pos_weight=1,\n",
    "             seed=None, silent=None, subsample=1, verbosity=1)"
   ]
  },
  {
   "cell_type": "code",
   "execution_count": 126,
   "metadata": {},
   "outputs": [],
   "source": [
    "from sklearn.model_selection import cross_val_score"
   ]
  },
  {
   "cell_type": "code",
   "execution_count": 127,
   "metadata": {},
   "outputs": [
    {
     "name": "stdout",
     "output_type": "stream",
     "text": [
      "[20:13:26] WARNING: C:/Users/Administrator/workspace/xgboost-win64_release_1.3.0/src/objective/regression_obj.cu:170: reg:linear is now deprecated in favor of reg:squarederror.\n",
      "[20:13:26] WARNING: C:/Users/Administrator/workspace/xgboost-win64_release_1.3.0/src/learner.cc:541: \n",
      "Parameters: { min_child_weights } might not be used.\n",
      "\n",
      "  This may not be accurate due to some parameters are only used in language bindings but\n",
      "  passed down to XGBoost core.  Or some parameters are not used but slip through this\n",
      "  verification. Please open an issue if you find above cases.\n",
      "\n",
      "\n",
      "[20:13:29] WARNING: C:/Users/Administrator/workspace/xgboost-win64_release_1.3.0/src/objective/regression_obj.cu:170: reg:linear is now deprecated in favor of reg:squarederror.\n",
      "[20:13:29] WARNING: C:/Users/Administrator/workspace/xgboost-win64_release_1.3.0/src/learner.cc:541: \n",
      "Parameters: { min_child_weights } might not be used.\n",
      "\n",
      "  This may not be accurate due to some parameters are only used in language bindings but\n",
      "  passed down to XGBoost core.  Or some parameters are not used but slip through this\n",
      "  verification. Please open an issue if you find above cases.\n",
      "\n",
      "\n",
      "[20:13:33] WARNING: C:/Users/Administrator/workspace/xgboost-win64_release_1.3.0/src/objective/regression_obj.cu:170: reg:linear is now deprecated in favor of reg:squarederror.\n",
      "[20:13:33] WARNING: C:/Users/Administrator/workspace/xgboost-win64_release_1.3.0/src/learner.cc:541: \n",
      "Parameters: { min_child_weights } might not be used.\n",
      "\n",
      "  This may not be accurate due to some parameters are only used in language bindings but\n",
      "  passed down to XGBoost core.  Or some parameters are not used but slip through this\n",
      "  verification. Please open an issue if you find above cases.\n",
      "\n",
      "\n",
      "[20:13:37] WARNING: C:/Users/Administrator/workspace/xgboost-win64_release_1.3.0/src/objective/regression_obj.cu:170: reg:linear is now deprecated in favor of reg:squarederror.\n",
      "[20:13:37] WARNING: C:/Users/Administrator/workspace/xgboost-win64_release_1.3.0/src/learner.cc:541: \n",
      "Parameters: { min_child_weights } might not be used.\n",
      "\n",
      "  This may not be accurate due to some parameters are only used in language bindings but\n",
      "  passed down to XGBoost core.  Or some parameters are not used but slip through this\n",
      "  verification. Please open an issue if you find above cases.\n",
      "\n",
      "\n",
      "[20:13:41] WARNING: C:/Users/Administrator/workspace/xgboost-win64_release_1.3.0/src/objective/regression_obj.cu:170: reg:linear is now deprecated in favor of reg:squarederror.\n",
      "[20:13:41] WARNING: C:/Users/Administrator/workspace/xgboost-win64_release_1.3.0/src/learner.cc:541: \n",
      "Parameters: { min_child_weights } might not be used.\n",
      "\n",
      "  This may not be accurate due to some parameters are only used in language bindings but\n",
      "  passed down to XGBoost core.  Or some parameters are not used but slip through this\n",
      "  verification. Please open an issue if you find above cases.\n",
      "\n",
      "\n",
      "[20:13:45] WARNING: C:/Users/Administrator/workspace/xgboost-win64_release_1.3.0/src/objective/regression_obj.cu:170: reg:linear is now deprecated in favor of reg:squarederror.\n",
      "[20:13:45] WARNING: C:/Users/Administrator/workspace/xgboost-win64_release_1.3.0/src/learner.cc:541: \n",
      "Parameters: { min_child_weights } might not be used.\n",
      "\n",
      "  This may not be accurate due to some parameters are only used in language bindings but\n",
      "  passed down to XGBoost core.  Or some parameters are not used but slip through this\n",
      "  verification. Please open an issue if you find above cases.\n",
      "\n",
      "\n",
      "[20:13:48] WARNING: C:/Users/Administrator/workspace/xgboost-win64_release_1.3.0/src/objective/regression_obj.cu:170: reg:linear is now deprecated in favor of reg:squarederror.\n",
      "[20:13:48] WARNING: C:/Users/Administrator/workspace/xgboost-win64_release_1.3.0/src/learner.cc:541: \n",
      "Parameters: { min_child_weights } might not be used.\n",
      "\n",
      "  This may not be accurate due to some parameters are only used in language bindings but\n",
      "  passed down to XGBoost core.  Or some parameters are not used but slip through this\n",
      "  verification. Please open an issue if you find above cases.\n",
      "\n",
      "\n",
      "[20:13:52] WARNING: C:/Users/Administrator/workspace/xgboost-win64_release_1.3.0/src/objective/regression_obj.cu:170: reg:linear is now deprecated in favor of reg:squarederror.\n",
      "[20:13:52] WARNING: C:/Users/Administrator/workspace/xgboost-win64_release_1.3.0/src/learner.cc:541: \n",
      "Parameters: { min_child_weights } might not be used.\n",
      "\n",
      "  This may not be accurate due to some parameters are only used in language bindings but\n",
      "  passed down to XGBoost core.  Or some parameters are not used but slip through this\n",
      "  verification. Please open an issue if you find above cases.\n",
      "\n",
      "\n",
      "[20:13:55] WARNING: C:/Users/Administrator/workspace/xgboost-win64_release_1.3.0/src/objective/regression_obj.cu:170: reg:linear is now deprecated in favor of reg:squarederror.\n",
      "[20:13:55] WARNING: C:/Users/Administrator/workspace/xgboost-win64_release_1.3.0/src/learner.cc:541: \n",
      "Parameters: { min_child_weights } might not be used.\n",
      "\n",
      "  This may not be accurate due to some parameters are only used in language bindings but\n",
      "  passed down to XGBoost core.  Or some parameters are not used but slip through this\n",
      "  verification. Please open an issue if you find above cases.\n",
      "\n",
      "\n",
      "[20:13:58] WARNING: C:/Users/Administrator/workspace/xgboost-win64_release_1.3.0/src/objective/regression_obj.cu:170: reg:linear is now deprecated in favor of reg:squarederror.\n",
      "[20:13:58] WARNING: C:/Users/Administrator/workspace/xgboost-win64_release_1.3.0/src/learner.cc:541: \n",
      "Parameters: { min_child_weights } might not be used.\n",
      "\n",
      "  This may not be accurate due to some parameters are only used in language bindings but\n",
      "  passed down to XGBoost core.  Or some parameters are not used but slip through this\n",
      "  verification. Please open an issue if you find above cases.\n",
      "\n",
      "\n"
     ]
    }
   ],
   "source": [
    "score = cross_val_score(regressor, X_train, y_train, cv=10)"
   ]
  },
  {
   "cell_type": "code",
   "execution_count": 128,
   "metadata": {},
   "outputs": [
    {
     "data": {
      "text/plain": [
       "array([0.62425944, 0.56418827, 0.54905534, 0.61783725, 0.60305534,\n",
       "       0.67414539, 0.59004415, 0.701136  , 0.5789205 , 0.2865166 ])"
      ]
     },
     "execution_count": 128,
     "metadata": {},
     "output_type": "execute_result"
    }
   ],
   "source": [
    "score"
   ]
  },
  {
   "cell_type": "code",
   "execution_count": 129,
   "metadata": {},
   "outputs": [
    {
     "data": {
      "text/plain": [
       "0.5789158270799407"
      ]
     },
     "execution_count": 129,
     "metadata": {},
     "output_type": "execute_result"
    }
   ],
   "source": [
    "score.mean()"
   ]
  },
  {
   "cell_type": "code",
   "execution_count": null,
   "metadata": {},
   "outputs": [],
   "source": []
  }
 ],
 "metadata": {
  "kernelspec": {
   "display_name": "Python 3",
   "language": "python",
   "name": "python3"
  },
  "language_info": {
   "codemirror_mode": {
    "name": "ipython",
    "version": 3
   },
   "file_extension": ".py",
   "mimetype": "text/x-python",
   "name": "python",
   "nbconvert_exporter": "python",
   "pygments_lexer": "ipython3",
   "version": "3.8.3"
  }
 },
 "nbformat": 4,
 "nbformat_minor": 4
}
